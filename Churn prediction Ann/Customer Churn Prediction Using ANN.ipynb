{
 "cells": [
  {
   "cell_type": "code",
   "execution_count": 1,
   "id": "7bb04bc4",
   "metadata": {},
   "outputs": [],
   "source": [
    "import pandas as pd"
   ]
  },
  {
   "cell_type": "code",
   "execution_count": 2,
   "id": "136fd0f2",
   "metadata": {},
   "outputs": [
    {
     "data": {
      "text/html": [
       "<div>\n",
       "<style scoped>\n",
       "    .dataframe tbody tr th:only-of-type {\n",
       "        vertical-align: middle;\n",
       "    }\n",
       "\n",
       "    .dataframe tbody tr th {\n",
       "        vertical-align: top;\n",
       "    }\n",
       "\n",
       "    .dataframe thead th {\n",
       "        text-align: right;\n",
       "    }\n",
       "</style>\n",
       "<table border=\"1\" class=\"dataframe\">\n",
       "  <thead>\n",
       "    <tr style=\"text-align: right;\">\n",
       "      <th></th>\n",
       "      <th>RowNumber</th>\n",
       "      <th>CustomerId</th>\n",
       "      <th>Surname</th>\n",
       "      <th>CreditScore</th>\n",
       "      <th>Geography</th>\n",
       "      <th>Gender</th>\n",
       "      <th>Age</th>\n",
       "      <th>Tenure</th>\n",
       "      <th>Balance</th>\n",
       "      <th>NumOfProducts</th>\n",
       "      <th>HasCrCard</th>\n",
       "      <th>IsActiveMember</th>\n",
       "      <th>EstimatedSalary</th>\n",
       "      <th>Exited</th>\n",
       "    </tr>\n",
       "  </thead>\n",
       "  <tbody>\n",
       "    <tr>\n",
       "      <th>0</th>\n",
       "      <td>1</td>\n",
       "      <td>15634602</td>\n",
       "      <td>Hargrave</td>\n",
       "      <td>619</td>\n",
       "      <td>France</td>\n",
       "      <td>Female</td>\n",
       "      <td>42</td>\n",
       "      <td>2</td>\n",
       "      <td>0.00</td>\n",
       "      <td>1</td>\n",
       "      <td>1</td>\n",
       "      <td>1</td>\n",
       "      <td>101348.88</td>\n",
       "      <td>1</td>\n",
       "    </tr>\n",
       "    <tr>\n",
       "      <th>1</th>\n",
       "      <td>2</td>\n",
       "      <td>15647311</td>\n",
       "      <td>Hill</td>\n",
       "      <td>608</td>\n",
       "      <td>Spain</td>\n",
       "      <td>Female</td>\n",
       "      <td>41</td>\n",
       "      <td>1</td>\n",
       "      <td>83807.86</td>\n",
       "      <td>1</td>\n",
       "      <td>0</td>\n",
       "      <td>1</td>\n",
       "      <td>112542.58</td>\n",
       "      <td>0</td>\n",
       "    </tr>\n",
       "    <tr>\n",
       "      <th>2</th>\n",
       "      <td>3</td>\n",
       "      <td>15619304</td>\n",
       "      <td>Onio</td>\n",
       "      <td>502</td>\n",
       "      <td>France</td>\n",
       "      <td>Female</td>\n",
       "      <td>42</td>\n",
       "      <td>8</td>\n",
       "      <td>159660.80</td>\n",
       "      <td>3</td>\n",
       "      <td>1</td>\n",
       "      <td>0</td>\n",
       "      <td>113931.57</td>\n",
       "      <td>1</td>\n",
       "    </tr>\n",
       "    <tr>\n",
       "      <th>3</th>\n",
       "      <td>4</td>\n",
       "      <td>15701354</td>\n",
       "      <td>Boni</td>\n",
       "      <td>699</td>\n",
       "      <td>France</td>\n",
       "      <td>Female</td>\n",
       "      <td>39</td>\n",
       "      <td>1</td>\n",
       "      <td>0.00</td>\n",
       "      <td>2</td>\n",
       "      <td>0</td>\n",
       "      <td>0</td>\n",
       "      <td>93826.63</td>\n",
       "      <td>0</td>\n",
       "    </tr>\n",
       "    <tr>\n",
       "      <th>4</th>\n",
       "      <td>5</td>\n",
       "      <td>15737888</td>\n",
       "      <td>Mitchell</td>\n",
       "      <td>850</td>\n",
       "      <td>Spain</td>\n",
       "      <td>Female</td>\n",
       "      <td>43</td>\n",
       "      <td>2</td>\n",
       "      <td>125510.82</td>\n",
       "      <td>1</td>\n",
       "      <td>1</td>\n",
       "      <td>1</td>\n",
       "      <td>79084.10</td>\n",
       "      <td>0</td>\n",
       "    </tr>\n",
       "  </tbody>\n",
       "</table>\n",
       "</div>"
      ],
      "text/plain": [
       "   RowNumber  CustomerId   Surname  CreditScore Geography  Gender  Age  \\\n",
       "0          1    15634602  Hargrave          619    France  Female   42   \n",
       "1          2    15647311      Hill          608     Spain  Female   41   \n",
       "2          3    15619304      Onio          502    France  Female   42   \n",
       "3          4    15701354      Boni          699    France  Female   39   \n",
       "4          5    15737888  Mitchell          850     Spain  Female   43   \n",
       "\n",
       "   Tenure    Balance  NumOfProducts  HasCrCard  IsActiveMember  \\\n",
       "0       2       0.00              1          1               1   \n",
       "1       1   83807.86              1          0               1   \n",
       "2       8  159660.80              3          1               0   \n",
       "3       1       0.00              2          0               0   \n",
       "4       2  125510.82              1          1               1   \n",
       "\n",
       "   EstimatedSalary  Exited  \n",
       "0        101348.88       1  \n",
       "1        112542.58       0  \n",
       "2        113931.57       1  \n",
       "3         93826.63       0  \n",
       "4         79084.10       0  "
      ]
     },
     "execution_count": 2,
     "metadata": {},
     "output_type": "execute_result"
    }
   ],
   "source": [
    "data=pd.read_csv('Churn_Modelling.csv')\n",
    "data.head()"
   ]
  },
  {
   "cell_type": "code",
   "execution_count": 3,
   "id": "b7752d31",
   "metadata": {},
   "outputs": [
    {
     "data": {
      "text/plain": [
       "(10000, 14)"
      ]
     },
     "execution_count": 3,
     "metadata": {},
     "output_type": "execute_result"
    }
   ],
   "source": [
    "data.shape"
   ]
  },
  {
   "cell_type": "code",
   "execution_count": 4,
   "id": "1c9f01f4",
   "metadata": {},
   "outputs": [
    {
     "name": "stdout",
     "output_type": "stream",
     "text": [
      "<class 'pandas.core.frame.DataFrame'>\n",
      "RangeIndex: 10000 entries, 0 to 9999\n",
      "Data columns (total 14 columns):\n",
      " #   Column           Non-Null Count  Dtype  \n",
      "---  ------           --------------  -----  \n",
      " 0   RowNumber        10000 non-null  int64  \n",
      " 1   CustomerId       10000 non-null  int64  \n",
      " 2   Surname          10000 non-null  object \n",
      " 3   CreditScore      10000 non-null  int64  \n",
      " 4   Geography        10000 non-null  object \n",
      " 5   Gender           10000 non-null  object \n",
      " 6   Age              10000 non-null  int64  \n",
      " 7   Tenure           10000 non-null  int64  \n",
      " 8   Balance          10000 non-null  float64\n",
      " 9   NumOfProducts    10000 non-null  int64  \n",
      " 10  HasCrCard        10000 non-null  int64  \n",
      " 11  IsActiveMember   10000 non-null  int64  \n",
      " 12  EstimatedSalary  10000 non-null  float64\n",
      " 13  Exited           10000 non-null  int64  \n",
      "dtypes: float64(2), int64(9), object(3)\n",
      "memory usage: 1.1+ MB\n"
     ]
    }
   ],
   "source": [
    "data.info()"
   ]
  },
  {
   "cell_type": "code",
   "execution_count": 5,
   "id": "3acb9f0e",
   "metadata": {},
   "outputs": [
    {
     "data": {
      "text/html": [
       "<div>\n",
       "<style scoped>\n",
       "    .dataframe tbody tr th:only-of-type {\n",
       "        vertical-align: middle;\n",
       "    }\n",
       "\n",
       "    .dataframe tbody tr th {\n",
       "        vertical-align: top;\n",
       "    }\n",
       "\n",
       "    .dataframe thead th {\n",
       "        text-align: right;\n",
       "    }\n",
       "</style>\n",
       "<table border=\"1\" class=\"dataframe\">\n",
       "  <thead>\n",
       "    <tr style=\"text-align: right;\">\n",
       "      <th></th>\n",
       "      <th>CreditScore</th>\n",
       "      <th>Geography</th>\n",
       "      <th>Gender</th>\n",
       "      <th>Age</th>\n",
       "      <th>Tenure</th>\n",
       "      <th>Balance</th>\n",
       "      <th>NumOfProducts</th>\n",
       "      <th>HasCrCard</th>\n",
       "      <th>IsActiveMember</th>\n",
       "      <th>EstimatedSalary</th>\n",
       "      <th>Exited</th>\n",
       "    </tr>\n",
       "  </thead>\n",
       "  <tbody>\n",
       "    <tr>\n",
       "      <th>0</th>\n",
       "      <td>619</td>\n",
       "      <td>France</td>\n",
       "      <td>Female</td>\n",
       "      <td>42</td>\n",
       "      <td>2</td>\n",
       "      <td>0.00</td>\n",
       "      <td>1</td>\n",
       "      <td>1</td>\n",
       "      <td>1</td>\n",
       "      <td>101348.88</td>\n",
       "      <td>1</td>\n",
       "    </tr>\n",
       "    <tr>\n",
       "      <th>1</th>\n",
       "      <td>608</td>\n",
       "      <td>Spain</td>\n",
       "      <td>Female</td>\n",
       "      <td>41</td>\n",
       "      <td>1</td>\n",
       "      <td>83807.86</td>\n",
       "      <td>1</td>\n",
       "      <td>0</td>\n",
       "      <td>1</td>\n",
       "      <td>112542.58</td>\n",
       "      <td>0</td>\n",
       "    </tr>\n",
       "    <tr>\n",
       "      <th>2</th>\n",
       "      <td>502</td>\n",
       "      <td>France</td>\n",
       "      <td>Female</td>\n",
       "      <td>42</td>\n",
       "      <td>8</td>\n",
       "      <td>159660.80</td>\n",
       "      <td>3</td>\n",
       "      <td>1</td>\n",
       "      <td>0</td>\n",
       "      <td>113931.57</td>\n",
       "      <td>1</td>\n",
       "    </tr>\n",
       "    <tr>\n",
       "      <th>3</th>\n",
       "      <td>699</td>\n",
       "      <td>France</td>\n",
       "      <td>Female</td>\n",
       "      <td>39</td>\n",
       "      <td>1</td>\n",
       "      <td>0.00</td>\n",
       "      <td>2</td>\n",
       "      <td>0</td>\n",
       "      <td>0</td>\n",
       "      <td>93826.63</td>\n",
       "      <td>0</td>\n",
       "    </tr>\n",
       "    <tr>\n",
       "      <th>4</th>\n",
       "      <td>850</td>\n",
       "      <td>Spain</td>\n",
       "      <td>Female</td>\n",
       "      <td>43</td>\n",
       "      <td>2</td>\n",
       "      <td>125510.82</td>\n",
       "      <td>1</td>\n",
       "      <td>1</td>\n",
       "      <td>1</td>\n",
       "      <td>79084.10</td>\n",
       "      <td>0</td>\n",
       "    </tr>\n",
       "  </tbody>\n",
       "</table>\n",
       "</div>"
      ],
      "text/plain": [
       "   CreditScore Geography  Gender  Age  Tenure    Balance  NumOfProducts  \\\n",
       "0          619    France  Female   42       2       0.00              1   \n",
       "1          608     Spain  Female   41       1   83807.86              1   \n",
       "2          502    France  Female   42       8  159660.80              3   \n",
       "3          699    France  Female   39       1       0.00              2   \n",
       "4          850     Spain  Female   43       2  125510.82              1   \n",
       "\n",
       "   HasCrCard  IsActiveMember  EstimatedSalary  Exited  \n",
       "0          1               1        101348.88       1  \n",
       "1          0               1        112542.58       0  \n",
       "2          1               0        113931.57       1  \n",
       "3          0               0         93826.63       0  \n",
       "4          1               1         79084.10       0  "
      ]
     },
     "execution_count": 5,
     "metadata": {},
     "output_type": "execute_result"
    }
   ],
   "source": [
    "# columns Removed\n",
    "data1=data.drop(['RowNumber','CustomerId','Surname'],axis=1)\n",
    "data1.head()"
   ]
  },
  {
   "cell_type": "code",
   "execution_count": 6,
   "id": "20b78df9",
   "metadata": {},
   "outputs": [
    {
     "data": {
      "text/plain": [
       "France     5014\n",
       "Germany    2509\n",
       "Spain      2477\n",
       "Name: Geography, dtype: int64"
      ]
     },
     "execution_count": 6,
     "metadata": {},
     "output_type": "execute_result"
    }
   ],
   "source": [
    "data1.Geography.value_counts()"
   ]
  },
  {
   "cell_type": "code",
   "execution_count": 7,
   "id": "5f15e32e",
   "metadata": {},
   "outputs": [
    {
     "data": {
      "text/plain": [
       "Male      5457\n",
       "Female    4543\n",
       "Name: Gender, dtype: int64"
      ]
     },
     "execution_count": 7,
     "metadata": {},
     "output_type": "execute_result"
    }
   ],
   "source": [
    "data1.Gender.value_counts()"
   ]
  },
  {
   "cell_type": "code",
   "execution_count": 8,
   "id": "91e70bf3",
   "metadata": {},
   "outputs": [
    {
     "data": {
      "text/html": [
       "<div>\n",
       "<style scoped>\n",
       "    .dataframe tbody tr th:only-of-type {\n",
       "        vertical-align: middle;\n",
       "    }\n",
       "\n",
       "    .dataframe tbody tr th {\n",
       "        vertical-align: top;\n",
       "    }\n",
       "\n",
       "    .dataframe thead th {\n",
       "        text-align: right;\n",
       "    }\n",
       "</style>\n",
       "<table border=\"1\" class=\"dataframe\">\n",
       "  <thead>\n",
       "    <tr style=\"text-align: right;\">\n",
       "      <th></th>\n",
       "      <th>CreditScore</th>\n",
       "      <th>Age</th>\n",
       "      <th>Tenure</th>\n",
       "      <th>Balance</th>\n",
       "      <th>NumOfProducts</th>\n",
       "      <th>HasCrCard</th>\n",
       "      <th>IsActiveMember</th>\n",
       "      <th>EstimatedSalary</th>\n",
       "      <th>Exited</th>\n",
       "      <th>Geography_Germany</th>\n",
       "      <th>Geography_Spain</th>\n",
       "      <th>Gender_Male</th>\n",
       "    </tr>\n",
       "  </thead>\n",
       "  <tbody>\n",
       "    <tr>\n",
       "      <th>0</th>\n",
       "      <td>619</td>\n",
       "      <td>42</td>\n",
       "      <td>2</td>\n",
       "      <td>0.00</td>\n",
       "      <td>1</td>\n",
       "      <td>1</td>\n",
       "      <td>1</td>\n",
       "      <td>101348.88</td>\n",
       "      <td>1</td>\n",
       "      <td>0</td>\n",
       "      <td>0</td>\n",
       "      <td>0</td>\n",
       "    </tr>\n",
       "    <tr>\n",
       "      <th>1</th>\n",
       "      <td>608</td>\n",
       "      <td>41</td>\n",
       "      <td>1</td>\n",
       "      <td>83807.86</td>\n",
       "      <td>1</td>\n",
       "      <td>0</td>\n",
       "      <td>1</td>\n",
       "      <td>112542.58</td>\n",
       "      <td>0</td>\n",
       "      <td>0</td>\n",
       "      <td>1</td>\n",
       "      <td>0</td>\n",
       "    </tr>\n",
       "    <tr>\n",
       "      <th>2</th>\n",
       "      <td>502</td>\n",
       "      <td>42</td>\n",
       "      <td>8</td>\n",
       "      <td>159660.80</td>\n",
       "      <td>3</td>\n",
       "      <td>1</td>\n",
       "      <td>0</td>\n",
       "      <td>113931.57</td>\n",
       "      <td>1</td>\n",
       "      <td>0</td>\n",
       "      <td>0</td>\n",
       "      <td>0</td>\n",
       "    </tr>\n",
       "    <tr>\n",
       "      <th>3</th>\n",
       "      <td>699</td>\n",
       "      <td>39</td>\n",
       "      <td>1</td>\n",
       "      <td>0.00</td>\n",
       "      <td>2</td>\n",
       "      <td>0</td>\n",
       "      <td>0</td>\n",
       "      <td>93826.63</td>\n",
       "      <td>0</td>\n",
       "      <td>0</td>\n",
       "      <td>0</td>\n",
       "      <td>0</td>\n",
       "    </tr>\n",
       "    <tr>\n",
       "      <th>4</th>\n",
       "      <td>850</td>\n",
       "      <td>43</td>\n",
       "      <td>2</td>\n",
       "      <td>125510.82</td>\n",
       "      <td>1</td>\n",
       "      <td>1</td>\n",
       "      <td>1</td>\n",
       "      <td>79084.10</td>\n",
       "      <td>0</td>\n",
       "      <td>0</td>\n",
       "      <td>1</td>\n",
       "      <td>0</td>\n",
       "    </tr>\n",
       "  </tbody>\n",
       "</table>\n",
       "</div>"
      ],
      "text/plain": [
       "   CreditScore  Age  Tenure    Balance  NumOfProducts  HasCrCard  \\\n",
       "0          619   42       2       0.00              1          1   \n",
       "1          608   41       1   83807.86              1          0   \n",
       "2          502   42       8  159660.80              3          1   \n",
       "3          699   39       1       0.00              2          0   \n",
       "4          850   43       2  125510.82              1          1   \n",
       "\n",
       "   IsActiveMember  EstimatedSalary  Exited  Geography_Germany  \\\n",
       "0               1        101348.88       1                  0   \n",
       "1               1        112542.58       0                  0   \n",
       "2               0        113931.57       1                  0   \n",
       "3               0         93826.63       0                  0   \n",
       "4               1         79084.10       0                  0   \n",
       "\n",
       "   Geography_Spain  Gender_Male  \n",
       "0                0            0  \n",
       "1                1            0  \n",
       "2                0            0  \n",
       "3                0            0  \n",
       "4                1            0  "
      ]
     },
     "execution_count": 8,
     "metadata": {},
     "output_type": "execute_result"
    }
   ],
   "source": [
    "# One Encoded on categorical Values\n",
    "data1 = pd.get_dummies(data1,columns=['Geography','Gender'],drop_first=True)\n",
    "data1.head()"
   ]
  },
  {
   "cell_type": "code",
   "execution_count": 9,
   "id": "a3ca7cd3",
   "metadata": {},
   "outputs": [
    {
     "data": {
      "text/html": [
       "<div>\n",
       "<style scoped>\n",
       "    .dataframe tbody tr th:only-of-type {\n",
       "        vertical-align: middle;\n",
       "    }\n",
       "\n",
       "    .dataframe tbody tr th {\n",
       "        vertical-align: top;\n",
       "    }\n",
       "\n",
       "    .dataframe thead th {\n",
       "        text-align: right;\n",
       "    }\n",
       "</style>\n",
       "<table border=\"1\" class=\"dataframe\">\n",
       "  <thead>\n",
       "    <tr style=\"text-align: right;\">\n",
       "      <th></th>\n",
       "      <th>CreditScore</th>\n",
       "      <th>Age</th>\n",
       "      <th>Tenure</th>\n",
       "      <th>Balance</th>\n",
       "      <th>NumOfProducts</th>\n",
       "      <th>HasCrCard</th>\n",
       "      <th>IsActiveMember</th>\n",
       "      <th>EstimatedSalary</th>\n",
       "      <th>Geography_Germany</th>\n",
       "      <th>Geography_Spain</th>\n",
       "      <th>Gender_Male</th>\n",
       "    </tr>\n",
       "  </thead>\n",
       "  <tbody>\n",
       "    <tr>\n",
       "      <th>0</th>\n",
       "      <td>619</td>\n",
       "      <td>42</td>\n",
       "      <td>2</td>\n",
       "      <td>0.00</td>\n",
       "      <td>1</td>\n",
       "      <td>1</td>\n",
       "      <td>1</td>\n",
       "      <td>101348.88</td>\n",
       "      <td>0</td>\n",
       "      <td>0</td>\n",
       "      <td>0</td>\n",
       "    </tr>\n",
       "    <tr>\n",
       "      <th>1</th>\n",
       "      <td>608</td>\n",
       "      <td>41</td>\n",
       "      <td>1</td>\n",
       "      <td>83807.86</td>\n",
       "      <td>1</td>\n",
       "      <td>0</td>\n",
       "      <td>1</td>\n",
       "      <td>112542.58</td>\n",
       "      <td>0</td>\n",
       "      <td>1</td>\n",
       "      <td>0</td>\n",
       "    </tr>\n",
       "    <tr>\n",
       "      <th>2</th>\n",
       "      <td>502</td>\n",
       "      <td>42</td>\n",
       "      <td>8</td>\n",
       "      <td>159660.80</td>\n",
       "      <td>3</td>\n",
       "      <td>1</td>\n",
       "      <td>0</td>\n",
       "      <td>113931.57</td>\n",
       "      <td>0</td>\n",
       "      <td>0</td>\n",
       "      <td>0</td>\n",
       "    </tr>\n",
       "    <tr>\n",
       "      <th>3</th>\n",
       "      <td>699</td>\n",
       "      <td>39</td>\n",
       "      <td>1</td>\n",
       "      <td>0.00</td>\n",
       "      <td>2</td>\n",
       "      <td>0</td>\n",
       "      <td>0</td>\n",
       "      <td>93826.63</td>\n",
       "      <td>0</td>\n",
       "      <td>0</td>\n",
       "      <td>0</td>\n",
       "    </tr>\n",
       "    <tr>\n",
       "      <th>4</th>\n",
       "      <td>850</td>\n",
       "      <td>43</td>\n",
       "      <td>2</td>\n",
       "      <td>125510.82</td>\n",
       "      <td>1</td>\n",
       "      <td>1</td>\n",
       "      <td>1</td>\n",
       "      <td>79084.10</td>\n",
       "      <td>0</td>\n",
       "      <td>1</td>\n",
       "      <td>0</td>\n",
       "    </tr>\n",
       "  </tbody>\n",
       "</table>\n",
       "</div>"
      ],
      "text/plain": [
       "   CreditScore  Age  Tenure    Balance  NumOfProducts  HasCrCard  \\\n",
       "0          619   42       2       0.00              1          1   \n",
       "1          608   41       1   83807.86              1          0   \n",
       "2          502   42       8  159660.80              3          1   \n",
       "3          699   39       1       0.00              2          0   \n",
       "4          850   43       2  125510.82              1          1   \n",
       "\n",
       "   IsActiveMember  EstimatedSalary  Geography_Germany  Geography_Spain  \\\n",
       "0               1        101348.88                  0                0   \n",
       "1               1        112542.58                  0                1   \n",
       "2               0        113931.57                  0                0   \n",
       "3               0         93826.63                  0                0   \n",
       "4               1         79084.10                  0                1   \n",
       "\n",
       "   Gender_Male  \n",
       "0            0  \n",
       "1            0  \n",
       "2            0  \n",
       "3            0  \n",
       "4            0  "
      ]
     },
     "execution_count": 9,
     "metadata": {},
     "output_type": "execute_result"
    }
   ],
   "source": [
    "# Extract Features And Target\n",
    "x=data1.drop(columns=['Exited'])\n",
    "y=data1.Exited.values\n",
    "x.head()"
   ]
  },
  {
   "cell_type": "code",
   "execution_count": 10,
   "id": "b05aec3e",
   "metadata": {},
   "outputs": [
    {
     "name": "stdout",
     "output_type": "stream",
     "text": [
      "(8000, 11) (2000, 11)\n"
     ]
    }
   ],
   "source": [
    "# Split Data To Train And Test \n",
    "from sklearn.model_selection import train_test_split\n",
    "x_train,x_test,y_train,y_test = train_test_split(x,y,test_size=0.2,random_state=0)\n",
    "print(x_train.shape,x_test.shape)"
   ]
  },
  {
   "cell_type": "code",
   "execution_count": 11,
   "id": "2a3a66ce",
   "metadata": {},
   "outputs": [],
   "source": [
    "# Scale the values same range\n",
    "from sklearn.preprocessing import StandardScaler\n",
    "scaler = StandardScaler()\n",
    "x_train = scaler.fit_transform(x_train)\n",
    "x_test = scaler.transform(x_test)"
   ]
  },
  {
   "cell_type": "code",
   "execution_count": 12,
   "id": "8f5493d3",
   "metadata": {},
   "outputs": [
    {
     "data": {
      "text/plain": [
       "array([[ 0.16958176, -0.46460796,  0.00666099, ..., -0.5698444 ,\n",
       "         1.74309049, -1.09168714],\n",
       "       [-2.30455945,  0.30102557, -1.37744033, ...,  1.75486502,\n",
       "        -0.57369368,  0.91601335],\n",
       "       [-1.19119591, -0.94312892, -1.031415  , ..., -0.5698444 ,\n",
       "        -0.57369368, -1.09168714],\n",
       "       ...,\n",
       "       [ 0.9015152 , -0.36890377,  0.00666099, ..., -0.5698444 ,\n",
       "        -0.57369368,  0.91601335],\n",
       "       [-0.62420521, -0.08179119,  1.39076231, ..., -0.5698444 ,\n",
       "         1.74309049, -1.09168714],\n",
       "       [-0.28401079,  0.87525072, -1.37744033, ...,  1.75486502,\n",
       "        -0.57369368, -1.09168714]])"
      ]
     },
     "execution_count": 12,
     "metadata": {},
     "output_type": "execute_result"
    }
   ],
   "source": [
    "x_train"
   ]
  },
  {
   "cell_type": "code",
   "execution_count": 13,
   "id": "64eaae24",
   "metadata": {},
   "outputs": [],
   "source": [
    "# import Library for ANN\n",
    "import tensorflow\n",
    "from tensorflow import keras\n",
    "from tensorflow.keras import Sequential \n",
    "from tensorflow.keras.layers import Dense"
   ]
  },
  {
   "cell_type": "code",
   "execution_count": 14,
   "id": "03e2f74f",
   "metadata": {},
   "outputs": [],
   "source": [
    "model=Sequential()\n",
    "model.add(Dense(15,activation='relu',input_dim=11))\n",
    "model.add(Dense(1,activation='sigmoid'))"
   ]
  },
  {
   "cell_type": "code",
   "execution_count": 15,
   "id": "4240d09a",
   "metadata": {},
   "outputs": [
    {
     "name": "stdout",
     "output_type": "stream",
     "text": [
      "Model: \"sequential\"\n",
      "_________________________________________________________________\n",
      " Layer (type)                Output Shape              Param #   \n",
      "=================================================================\n",
      " dense (Dense)               (None, 15)                180       \n",
      "                                                                 \n",
      " dense_1 (Dense)             (None, 1)                 16        \n",
      "                                                                 \n",
      "=================================================================\n",
      "Total params: 196\n",
      "Trainable params: 196\n",
      "Non-trainable params: 0\n",
      "_________________________________________________________________\n"
     ]
    }
   ],
   "source": [
    "model.summary()"
   ]
  },
  {
   "cell_type": "code",
   "execution_count": 16,
   "id": "fb40b577",
   "metadata": {},
   "outputs": [],
   "source": [
    "model.compile(optimizer='adam',loss='BinaryCrossentropy',metrics=['accuracy'])"
   ]
  },
  {
   "cell_type": "code",
   "execution_count": 17,
   "id": "454ac6ba",
   "metadata": {},
   "outputs": [
    {
     "name": "stdout",
     "output_type": "stream",
     "text": [
      "Epoch 1/100\n",
      "214/214 [==============================] - 4s 6ms/step - loss: 0.6581 - accuracy: 0.6522 - val_loss: 0.5162 - val_accuracy: 0.7969\n",
      "Epoch 2/100\n",
      "214/214 [==============================] - 1s 4ms/step - loss: 0.4777 - accuracy: 0.7986 - val_loss: 0.4577 - val_accuracy: 0.8012\n",
      "Epoch 3/100\n",
      "214/214 [==============================] - 1s 3ms/step - loss: 0.4420 - accuracy: 0.8073 - val_loss: 0.4414 - val_accuracy: 0.8062\n",
      "Epoch 4/100\n",
      "214/214 [==============================] - 1s 3ms/step - loss: 0.4273 - accuracy: 0.8141 - val_loss: 0.4310 - val_accuracy: 0.8100\n",
      "Epoch 5/100\n",
      "214/214 [==============================] - 1s 3ms/step - loss: 0.4164 - accuracy: 0.8188 - val_loss: 0.4213 - val_accuracy: 0.8156\n",
      "Epoch 6/100\n",
      "214/214 [==============================] - 1s 3ms/step - loss: 0.4060 - accuracy: 0.8261 - val_loss: 0.4115 - val_accuracy: 0.8206\n",
      "Epoch 7/100\n",
      "214/214 [==============================] - 1s 3ms/step - loss: 0.3960 - accuracy: 0.8320 - val_loss: 0.4024 - val_accuracy: 0.8231\n",
      "Epoch 8/100\n",
      "214/214 [==============================] - 1s 4ms/step - loss: 0.3862 - accuracy: 0.8383 - val_loss: 0.3945 - val_accuracy: 0.8244\n",
      "Epoch 9/100\n",
      "214/214 [==============================] - 1s 4ms/step - loss: 0.3776 - accuracy: 0.8417 - val_loss: 0.3873 - val_accuracy: 0.8306\n",
      "Epoch 10/100\n",
      "214/214 [==============================] - 1s 4ms/step - loss: 0.3701 - accuracy: 0.8469 - val_loss: 0.3819 - val_accuracy: 0.8400\n",
      "Epoch 11/100\n",
      "214/214 [==============================] - 1s 4ms/step - loss: 0.3645 - accuracy: 0.8497 - val_loss: 0.3782 - val_accuracy: 0.8344\n",
      "Epoch 12/100\n",
      "214/214 [==============================] - 1s 4ms/step - loss: 0.3602 - accuracy: 0.8533 - val_loss: 0.3739 - val_accuracy: 0.8425\n",
      "Epoch 13/100\n",
      "214/214 [==============================] - 1s 4ms/step - loss: 0.3561 - accuracy: 0.8512 - val_loss: 0.3711 - val_accuracy: 0.8444\n",
      "Epoch 14/100\n",
      "214/214 [==============================] - 1s 4ms/step - loss: 0.3531 - accuracy: 0.8527 - val_loss: 0.3688 - val_accuracy: 0.8450\n",
      "Epoch 15/100\n",
      "214/214 [==============================] - 1s 4ms/step - loss: 0.3508 - accuracy: 0.8558 - val_loss: 0.3670 - val_accuracy: 0.8494\n",
      "Epoch 16/100\n",
      "214/214 [==============================] - 1s 4ms/step - loss: 0.3489 - accuracy: 0.8547 - val_loss: 0.3651 - val_accuracy: 0.8469\n",
      "Epoch 17/100\n",
      "214/214 [==============================] - 1s 4ms/step - loss: 0.3470 - accuracy: 0.8561 - val_loss: 0.3640 - val_accuracy: 0.8506\n",
      "Epoch 18/100\n",
      "214/214 [==============================] - 1s 4ms/step - loss: 0.3454 - accuracy: 0.8561 - val_loss: 0.3632 - val_accuracy: 0.8487\n",
      "Epoch 19/100\n",
      "214/214 [==============================] - 1s 4ms/step - loss: 0.3444 - accuracy: 0.8562 - val_loss: 0.3627 - val_accuracy: 0.8512\n",
      "Epoch 20/100\n",
      "214/214 [==============================] - 1s 4ms/step - loss: 0.3431 - accuracy: 0.8578 - val_loss: 0.3618 - val_accuracy: 0.8537\n",
      "Epoch 21/100\n",
      "214/214 [==============================] - 1s 3ms/step - loss: 0.3424 - accuracy: 0.8589 - val_loss: 0.3613 - val_accuracy: 0.8519\n",
      "Epoch 22/100\n",
      "214/214 [==============================] - 1s 4ms/step - loss: 0.3417 - accuracy: 0.8595 - val_loss: 0.3616 - val_accuracy: 0.8494\n",
      "Epoch 23/100\n",
      "214/214 [==============================] - 1s 4ms/step - loss: 0.3407 - accuracy: 0.8584 - val_loss: 0.3610 - val_accuracy: 0.8544\n",
      "Epoch 24/100\n",
      "214/214 [==============================] - 1s 4ms/step - loss: 0.3400 - accuracy: 0.8603 - val_loss: 0.3612 - val_accuracy: 0.8506\n",
      "Epoch 25/100\n",
      "214/214 [==============================] - 1s 4ms/step - loss: 0.3401 - accuracy: 0.8600 - val_loss: 0.3617 - val_accuracy: 0.8500\n",
      "Epoch 26/100\n",
      "214/214 [==============================] - 1s 4ms/step - loss: 0.3389 - accuracy: 0.8605 - val_loss: 0.3605 - val_accuracy: 0.8537\n",
      "Epoch 27/100\n",
      "214/214 [==============================] - 1s 4ms/step - loss: 0.3389 - accuracy: 0.8587 - val_loss: 0.3603 - val_accuracy: 0.8512\n",
      "Epoch 28/100\n",
      "214/214 [==============================] - 1s 4ms/step - loss: 0.3381 - accuracy: 0.8595 - val_loss: 0.3605 - val_accuracy: 0.8550\n",
      "Epoch 29/100\n",
      "214/214 [==============================] - 1s 4ms/step - loss: 0.3381 - accuracy: 0.8589 - val_loss: 0.3599 - val_accuracy: 0.8506\n",
      "Epoch 30/100\n",
      "214/214 [==============================] - 1s 3ms/step - loss: 0.3374 - accuracy: 0.8614 - val_loss: 0.3599 - val_accuracy: 0.8500\n",
      "Epoch 31/100\n",
      "214/214 [==============================] - 1s 3ms/step - loss: 0.3372 - accuracy: 0.8597 - val_loss: 0.3594 - val_accuracy: 0.8512\n",
      "Epoch 32/100\n",
      "214/214 [==============================] - 1s 3ms/step - loss: 0.3369 - accuracy: 0.8606 - val_loss: 0.3593 - val_accuracy: 0.8512\n",
      "Epoch 33/100\n",
      "214/214 [==============================] - 1s 3ms/step - loss: 0.3361 - accuracy: 0.8625 - val_loss: 0.3588 - val_accuracy: 0.8531\n",
      "Epoch 34/100\n",
      "214/214 [==============================] - 1s 3ms/step - loss: 0.3356 - accuracy: 0.8625 - val_loss: 0.3595 - val_accuracy: 0.8506\n",
      "Epoch 35/100\n",
      "214/214 [==============================] - 1s 4ms/step - loss: 0.3355 - accuracy: 0.8627 - val_loss: 0.3592 - val_accuracy: 0.8519\n",
      "Epoch 36/100\n",
      "214/214 [==============================] - 1s 3ms/step - loss: 0.3353 - accuracy: 0.8631 - val_loss: 0.3580 - val_accuracy: 0.8544\n",
      "Epoch 37/100\n",
      "214/214 [==============================] - 1s 3ms/step - loss: 0.3350 - accuracy: 0.8625 - val_loss: 0.3584 - val_accuracy: 0.8519\n",
      "Epoch 38/100\n",
      "214/214 [==============================] - 1s 3ms/step - loss: 0.3346 - accuracy: 0.8614 - val_loss: 0.3581 - val_accuracy: 0.8525\n",
      "Epoch 39/100\n",
      "214/214 [==============================] - 1s 4ms/step - loss: 0.3344 - accuracy: 0.8625 - val_loss: 0.3579 - val_accuracy: 0.8531\n",
      "Epoch 40/100\n",
      "214/214 [==============================] - 1s 4ms/step - loss: 0.3340 - accuracy: 0.8622 - val_loss: 0.3577 - val_accuracy: 0.8506\n",
      "Epoch 41/100\n",
      "214/214 [==============================] - 1s 4ms/step - loss: 0.3338 - accuracy: 0.8625 - val_loss: 0.3582 - val_accuracy: 0.8487\n",
      "Epoch 42/100\n",
      "214/214 [==============================] - 1s 4ms/step - loss: 0.3339 - accuracy: 0.8628 - val_loss: 0.3576 - val_accuracy: 0.8537\n",
      "Epoch 43/100\n",
      "214/214 [==============================] - 1s 4ms/step - loss: 0.3336 - accuracy: 0.8631 - val_loss: 0.3574 - val_accuracy: 0.8525\n",
      "Epoch 44/100\n",
      "214/214 [==============================] - 1s 4ms/step - loss: 0.3331 - accuracy: 0.8637 - val_loss: 0.3572 - val_accuracy: 0.8525\n",
      "Epoch 45/100\n",
      "214/214 [==============================] - 1s 4ms/step - loss: 0.3329 - accuracy: 0.8605 - val_loss: 0.3569 - val_accuracy: 0.8494\n",
      "Epoch 46/100\n",
      "214/214 [==============================] - 1s 4ms/step - loss: 0.3326 - accuracy: 0.8622 - val_loss: 0.3569 - val_accuracy: 0.8500\n",
      "Epoch 47/100\n",
      "214/214 [==============================] - 1s 4ms/step - loss: 0.3327 - accuracy: 0.8637 - val_loss: 0.3568 - val_accuracy: 0.8506\n",
      "Epoch 48/100\n",
      "214/214 [==============================] - 1s 4ms/step - loss: 0.3321 - accuracy: 0.8627 - val_loss: 0.3572 - val_accuracy: 0.8537\n",
      "Epoch 49/100\n",
      "214/214 [==============================] - 1s 4ms/step - loss: 0.3324 - accuracy: 0.8634 - val_loss: 0.3559 - val_accuracy: 0.8519\n",
      "Epoch 50/100\n",
      "214/214 [==============================] - 1s 4ms/step - loss: 0.3319 - accuracy: 0.8627 - val_loss: 0.3565 - val_accuracy: 0.8544\n",
      "Epoch 51/100\n",
      "214/214 [==============================] - 1s 4ms/step - loss: 0.3314 - accuracy: 0.8631 - val_loss: 0.3556 - val_accuracy: 0.8550\n",
      "Epoch 52/100\n",
      "214/214 [==============================] - 1s 4ms/step - loss: 0.3315 - accuracy: 0.8625 - val_loss: 0.3551 - val_accuracy: 0.8544\n",
      "Epoch 53/100\n",
      "214/214 [==============================] - 1s 4ms/step - loss: 0.3311 - accuracy: 0.8634 - val_loss: 0.3562 - val_accuracy: 0.8506\n",
      "Epoch 54/100\n",
      "214/214 [==============================] - 1s 4ms/step - loss: 0.3308 - accuracy: 0.8641 - val_loss: 0.3553 - val_accuracy: 0.8519\n",
      "Epoch 55/100\n",
      "214/214 [==============================] - 1s 3ms/step - loss: 0.3311 - accuracy: 0.8625 - val_loss: 0.3551 - val_accuracy: 0.8550\n",
      "Epoch 56/100\n",
      "214/214 [==============================] - 1s 4ms/step - loss: 0.3309 - accuracy: 0.8634 - val_loss: 0.3552 - val_accuracy: 0.8531\n",
      "Epoch 57/100\n",
      "214/214 [==============================] - 1s 4ms/step - loss: 0.3307 - accuracy: 0.8636 - val_loss: 0.3546 - val_accuracy: 0.8562\n"
     ]
    },
    {
     "name": "stdout",
     "output_type": "stream",
     "text": [
      "Epoch 58/100\n",
      "214/214 [==============================] - 1s 3ms/step - loss: 0.3302 - accuracy: 0.8639 - val_loss: 0.3549 - val_accuracy: 0.8537\n",
      "Epoch 59/100\n",
      "214/214 [==============================] - 1s 3ms/step - loss: 0.3304 - accuracy: 0.8631 - val_loss: 0.3549 - val_accuracy: 0.8531\n",
      "Epoch 60/100\n",
      "214/214 [==============================] - 1s 3ms/step - loss: 0.3303 - accuracy: 0.8625 - val_loss: 0.3552 - val_accuracy: 0.8525\n",
      "Epoch 61/100\n",
      "214/214 [==============================] - 1s 4ms/step - loss: 0.3301 - accuracy: 0.8644 - val_loss: 0.3547 - val_accuracy: 0.8556\n",
      "Epoch 62/100\n",
      "214/214 [==============================] - 1s 4ms/step - loss: 0.3299 - accuracy: 0.8636 - val_loss: 0.3547 - val_accuracy: 0.8506\n",
      "Epoch 63/100\n",
      "214/214 [==============================] - 1s 4ms/step - loss: 0.3294 - accuracy: 0.8642 - val_loss: 0.3546 - val_accuracy: 0.8544\n",
      "Epoch 64/100\n",
      "214/214 [==============================] - 1s 4ms/step - loss: 0.3296 - accuracy: 0.8645 - val_loss: 0.3540 - val_accuracy: 0.8537\n",
      "Epoch 65/100\n",
      "214/214 [==============================] - 1s 4ms/step - loss: 0.3293 - accuracy: 0.8634 - val_loss: 0.3543 - val_accuracy: 0.8519\n",
      "Epoch 66/100\n",
      "214/214 [==============================] - 1s 4ms/step - loss: 0.3293 - accuracy: 0.8647 - val_loss: 0.3545 - val_accuracy: 0.8525\n",
      "Epoch 67/100\n",
      "214/214 [==============================] - 1s 4ms/step - loss: 0.3293 - accuracy: 0.8616 - val_loss: 0.3542 - val_accuracy: 0.8550\n",
      "Epoch 68/100\n",
      "214/214 [==============================] - 1s 4ms/step - loss: 0.3292 - accuracy: 0.8644 - val_loss: 0.3546 - val_accuracy: 0.8519\n",
      "Epoch 69/100\n",
      "214/214 [==============================] - 1s 4ms/step - loss: 0.3292 - accuracy: 0.8633 - val_loss: 0.3547 - val_accuracy: 0.8537\n",
      "Epoch 70/100\n",
      "214/214 [==============================] - 1s 4ms/step - loss: 0.3288 - accuracy: 0.8641 - val_loss: 0.3547 - val_accuracy: 0.8544\n",
      "Epoch 71/100\n",
      "214/214 [==============================] - 1s 4ms/step - loss: 0.3286 - accuracy: 0.8637 - val_loss: 0.3543 - val_accuracy: 0.8544\n",
      "Epoch 72/100\n",
      "214/214 [==============================] - 1s 4ms/step - loss: 0.3289 - accuracy: 0.8633 - val_loss: 0.3542 - val_accuracy: 0.8537\n",
      "Epoch 73/100\n",
      "214/214 [==============================] - 1s 3ms/step - loss: 0.3283 - accuracy: 0.8650 - val_loss: 0.3547 - val_accuracy: 0.8544\n",
      "Epoch 74/100\n",
      "214/214 [==============================] - 1s 4ms/step - loss: 0.3284 - accuracy: 0.8652 - val_loss: 0.3548 - val_accuracy: 0.8512\n",
      "Epoch 75/100\n",
      "214/214 [==============================] - 1s 4ms/step - loss: 0.3281 - accuracy: 0.8648 - val_loss: 0.3545 - val_accuracy: 0.8537\n",
      "Epoch 76/100\n",
      "214/214 [==============================] - 1s 4ms/step - loss: 0.3283 - accuracy: 0.8642 - val_loss: 0.3535 - val_accuracy: 0.8537\n",
      "Epoch 77/100\n",
      "214/214 [==============================] - 1s 4ms/step - loss: 0.3283 - accuracy: 0.8644 - val_loss: 0.3539 - val_accuracy: 0.8519\n",
      "Epoch 78/100\n",
      "214/214 [==============================] - 1s 4ms/step - loss: 0.3284 - accuracy: 0.8647 - val_loss: 0.3539 - val_accuracy: 0.8531\n",
      "Epoch 79/100\n",
      "214/214 [==============================] - 1s 3ms/step - loss: 0.3280 - accuracy: 0.8636 - val_loss: 0.3538 - val_accuracy: 0.8544\n",
      "Epoch 80/100\n",
      "214/214 [==============================] - 1s 4ms/step - loss: 0.3275 - accuracy: 0.8642 - val_loss: 0.3538 - val_accuracy: 0.8531\n",
      "Epoch 81/100\n",
      "214/214 [==============================] - 1s 4ms/step - loss: 0.3278 - accuracy: 0.8655 - val_loss: 0.3534 - val_accuracy: 0.8550\n",
      "Epoch 82/100\n",
      "214/214 [==============================] - 1s 4ms/step - loss: 0.3275 - accuracy: 0.8648 - val_loss: 0.3538 - val_accuracy: 0.8519\n",
      "Epoch 83/100\n",
      "214/214 [==============================] - 1s 4ms/step - loss: 0.3279 - accuracy: 0.8637 - val_loss: 0.3543 - val_accuracy: 0.8531\n",
      "Epoch 84/100\n",
      "214/214 [==============================] - 1s 4ms/step - loss: 0.3275 - accuracy: 0.8644 - val_loss: 0.3536 - val_accuracy: 0.8569\n",
      "Epoch 85/100\n",
      "214/214 [==============================] - 1s 4ms/step - loss: 0.3277 - accuracy: 0.8647 - val_loss: 0.3537 - val_accuracy: 0.8562\n",
      "Epoch 86/100\n",
      "214/214 [==============================] - 1s 4ms/step - loss: 0.3275 - accuracy: 0.8645 - val_loss: 0.3535 - val_accuracy: 0.8531\n",
      "Epoch 87/100\n",
      "214/214 [==============================] - 1s 4ms/step - loss: 0.3273 - accuracy: 0.8644 - val_loss: 0.3548 - val_accuracy: 0.8525\n",
      "Epoch 88/100\n",
      "214/214 [==============================] - 1s 4ms/step - loss: 0.3276 - accuracy: 0.8642 - val_loss: 0.3538 - val_accuracy: 0.8544\n",
      "Epoch 89/100\n",
      "214/214 [==============================] - 1s 4ms/step - loss: 0.3272 - accuracy: 0.8648 - val_loss: 0.3535 - val_accuracy: 0.8556\n",
      "Epoch 90/100\n",
      "214/214 [==============================] - 1s 4ms/step - loss: 0.3272 - accuracy: 0.8658 - val_loss: 0.3535 - val_accuracy: 0.8581\n",
      "Epoch 91/100\n",
      "214/214 [==============================] - 1s 4ms/step - loss: 0.3272 - accuracy: 0.8647 - val_loss: 0.3533 - val_accuracy: 0.8537\n",
      "Epoch 92/100\n",
      "214/214 [==============================] - 1s 4ms/step - loss: 0.3269 - accuracy: 0.8644 - val_loss: 0.3534 - val_accuracy: 0.8562\n",
      "Epoch 93/100\n",
      "214/214 [==============================] - 1s 4ms/step - loss: 0.3269 - accuracy: 0.8637 - val_loss: 0.3543 - val_accuracy: 0.8556\n",
      "Epoch 94/100\n",
      "214/214 [==============================] - 1s 4ms/step - loss: 0.3271 - accuracy: 0.8647 - val_loss: 0.3536 - val_accuracy: 0.8525\n",
      "Epoch 95/100\n",
      "214/214 [==============================] - 1s 4ms/step - loss: 0.3265 - accuracy: 0.8656 - val_loss: 0.3538 - val_accuracy: 0.8556\n",
      "Epoch 96/100\n",
      "214/214 [==============================] - 1s 4ms/step - loss: 0.3267 - accuracy: 0.8644 - val_loss: 0.3531 - val_accuracy: 0.8606\n",
      "Epoch 97/100\n",
      "214/214 [==============================] - 1s 4ms/step - loss: 0.3265 - accuracy: 0.8645 - val_loss: 0.3528 - val_accuracy: 0.8550\n",
      "Epoch 98/100\n",
      "214/214 [==============================] - 1s 4ms/step - loss: 0.3265 - accuracy: 0.8637 - val_loss: 0.3535 - val_accuracy: 0.8544\n",
      "Epoch 99/100\n",
      "214/214 [==============================] - 1s 4ms/step - loss: 0.3266 - accuracy: 0.8650 - val_loss: 0.3530 - val_accuracy: 0.8537\n",
      "Epoch 100/100\n",
      "214/214 [==============================] - 1s 4ms/step - loss: 0.3262 - accuracy: 0.8648 - val_loss: 0.3544 - val_accuracy: 0.8556\n"
     ]
    }
   ],
   "source": [
    "history = model.fit(x_train,y_train,batch_size=30,epochs=100,verbose=1,validation_split=0.2)"
   ]
  },
  {
   "cell_type": "code",
   "execution_count": 18,
   "id": "69fe1889",
   "metadata": {},
   "outputs": [
    {
     "data": {
      "image/png": "[encoded data removed]",
      "text/plain": [
       "<Figure size 640x480 with 1 Axes>"
      ]
     },
     "metadata": {},
     "output_type": "display_data"
    }
   ],
   "source": [
    "# visualize the model performance based on loss \n",
    "import matplotlib.pyplot as plt\n",
    "\n",
    "plt.plot(history.history['loss'])\n",
    "plt.plot(history.history['val_loss']);"
   ]
  },
  {
   "cell_type": "code",
   "execution_count": 19,
   "id": "e9de7719",
   "metadata": {},
   "outputs": [
    {
     "data": {
      "image/png": "[encoded data removed]",
      "text/plain": [
       "<Figure size 640x480 with 1 Axes>"
      ]
     },
     "metadata": {},
     "output_type": "display_data"
    }
   ],
   "source": [
    "# Based on accuracy Accuracy\n",
    "plt.plot(history.history['accuracy'])\n",
    "plt.plot(history.history['val_accuracy']);"
   ]
  },
  {
   "cell_type": "code",
   "execution_count": 20,
   "id": "3b37b720",
   "metadata": {},
   "outputs": [
    {
     "name": "stdout",
     "output_type": "stream",
     "text": [
      "63/63 [==============================] - 0s 2ms/step\n"
     ]
    }
   ],
   "source": [
    "pred = model.predict(x_test)"
   ]
  },
  {
   "cell_type": "code",
   "execution_count": 21,
   "id": "2146f39b",
   "metadata": {},
   "outputs": [
    {
     "data": {
      "text/plain": [
       "array([[0.29905438],\n",
       "       [0.21362816],\n",
       "       [0.10120998],\n",
       "       ...,\n",
       "       [0.23718488],\n",
       "       [0.21005598],\n",
       "       [0.13653632]], dtype=float32)"
      ]
     },
     "execution_count": 21,
     "metadata": {},
     "output_type": "execute_result"
    }
   ],
   "source": [
    "pred"
   ]
  },
  {
   "cell_type": "code",
   "execution_count": 22,
   "id": "0ae86568",
   "metadata": {},
   "outputs": [
    {
     "data": {
      "text/plain": [
       "(2000, 1)"
      ]
     },
     "execution_count": 22,
     "metadata": {},
     "output_type": "execute_result"
    }
   ],
   "source": [
    "pred.shape"
   ]
  },
  {
   "cell_type": "code",
   "execution_count": 23,
   "id": "6f65a38c",
   "metadata": {},
   "outputs": [],
   "source": [
    "pred = pred.argmax(axis=-1)"
   ]
  },
  {
   "cell_type": "code",
   "execution_count": 24,
   "id": "f2b08875",
   "metadata": {},
   "outputs": [
    {
     "data": {
      "text/plain": [
       "0.7975"
      ]
     },
     "execution_count": 24,
     "metadata": {},
     "output_type": "execute_result"
    }
   ],
   "source": [
    "from sklearn.metrics import accuracy_score\n",
    "accuracy_score(y_test,pred)"
   ]
  },
  {
   "cell_type": "code",
   "execution_count": 25,
   "id": "5aae5dab",
   "metadata": {},
   "outputs": [],
   "source": [
    "# Data Source https://www.kaggle.com/datasets/rjmanoj/credit-card-customer-churn-prediction\n",
    "# Learing Resource CampusX youtube Channel."
   ]
  },
  {
   "cell_type": "code",
   "execution_count": null,
   "id": "950780ea",
   "metadata": {},
   "outputs": [],
   "source": []
  }
 ],
 "metadata": {
  "kernelspec": {
   "display_name": "Python 3 (ipykernel)",
   "language": "python",
   "name": "python3"
  },
  "language_info": {
   "codemirror_mode": {
    "name": "ipython",
    "version": 3
   },
   "file_extension": ".py",
   "mimetype": "text/x-python",
   "name": "python",
   "nbconvert_exporter": "python",
   "pygments_lexer": "ipython3",
   "version": "3.7.16"
  }
 },
 "nbformat": 4,
 "nbformat_minor": 5
}
