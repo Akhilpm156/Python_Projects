{
 "cells": [
  {
   "cell_type": "code",
   "execution_count": 1,
   "id": "61175bf6",
   "metadata": {
    "_cell_guid": "b1076dfc-b9ad-4769-8c92-a6c4dae69d19",
    "_uuid": "8f2839f25d086af736a60e9eeb907d3b93b6e0e5",
    "execution": {
     "iopub.execute_input": "2023-12-13T11:53:26.963239Z",
     "iopub.status.busy": "2023-12-13T11:53:26.962592Z",
     "iopub.status.idle": "2023-12-13T11:53:27.883075Z",
     "shell.execute_reply": "2023-12-13T11:53:27.881693Z"
    },
    "papermill": {
     "duration": 0.930121,
     "end_time": "2023-12-13T11:53:27.885114",
     "exception": false,
     "start_time": "2023-12-13T11:53:26.954993",
     "status": "completed"
    },
    "tags": []
   },
   "outputs": [
    {
     "name": "stdout",
     "output_type": "stream",
     "text": [
      "/kaggle/input/book-recommendation-dataset/Ratings.csv\n",
      "/kaggle/input/book-recommendation-dataset/Users.csv\n",
      "/kaggle/input/book-recommendation-dataset/Books.csv\n",
      "/kaggle/input/book-recommendation-dataset/recsys_taxonomy2.png\n"
     ]
    }
   ],
   "source": [
    "# This Python 3 environment comes with many helpful analytics libraries installed\n",
    "# It is defined by the kaggle/python Docker image: https://github.com/kaggle/docker-python\n",
    "# For example, here's several helpful packages to load\n",
    "\n",
    "import numpy as np # linear algebra\n",
    "import pandas as pd # data processing, CSV file I/O (e.g. pd.read_csv)\n",
    "\n",
    "# Input data files are available in the read-only \"../input/\" directory\n",
    "# For example, running this (by clicking run or pressing Shift+Enter) will list all files under the input directory\n",
    "\n",
    "import os\n",
    "for dirname, _, filenames in os.walk('/kaggle/input'):\n",
    "    for filename in filenames:\n",
    "        print(os.path.join(dirname, filename))\n",
    "\n",
    "# You can write up to 20GB to the current directory (/kaggle/working/) that gets preserved as output when you create a version using \"Save & Run All\" \n",
    "# You can also write temporary files to /kaggle/temp/, but they won't be saved outside of the current session"
   ]
  },
  {
   "cell_type": "code",
   "execution_count": 2,
   "id": "00429b62",
   "metadata": {
    "execution": {
     "iopub.execute_input": "2023-12-13T11:53:27.897539Z",
     "iopub.status.busy": "2023-12-13T11:53:27.897010Z",
     "iopub.status.idle": "2023-12-13T11:53:31.211876Z",
     "shell.execute_reply": "2023-12-13T11:53:31.210544Z"
    },
    "papermill": {
     "duration": 3.323957,
     "end_time": "2023-12-13T11:53:31.214274",
     "exception": false,
     "start_time": "2023-12-13T11:53:27.890317",
     "status": "completed"
    },
    "tags": []
   },
   "outputs": [
    {
     "name": "stderr",
     "output_type": "stream",
     "text": [
      "/tmp/ipykernel_19/2602210328.py:3: DtypeWarning: Columns (3) have mixed types. Specify dtype option on import or set low_memory=False.\n",
      "  books = pd.read_csv('/kaggle/input/book-recommendation-dataset/Books.csv')\n"
     ]
    }
   ],
   "source": [
    "# read files\n",
    "\n",
    "books = pd.read_csv('/kaggle/input/book-recommendation-dataset/Books.csv')\n",
    "ratings = pd.read_csv('/kaggle/input/book-recommendation-dataset/Ratings.csv')\n",
    "user = pd.read_csv('/kaggle/input/book-recommendation-dataset/Users.csv')"
   ]
  },
  {
   "cell_type": "code",
   "execution_count": 3,
   "id": "fffe8b53",
   "metadata": {
    "execution": {
     "iopub.execute_input": "2023-12-13T11:53:31.227437Z",
     "iopub.status.busy": "2023-12-13T11:53:31.227048Z",
     "iopub.status.idle": "2023-12-13T11:53:31.253616Z",
     "shell.execute_reply": "2023-12-13T11:53:31.252301Z"
    },
    "papermill": {
     "duration": 0.035216,
     "end_time": "2023-12-13T11:53:31.255554",
     "exception": false,
     "start_time": "2023-12-13T11:53:31.220338",
     "status": "completed"
    },
    "tags": []
   },
   "outputs": [
    {
     "data": {
      "text/html": [
       "<div>\n",
       "<style scoped>\n",
       "    .dataframe tbody tr th:only-of-type {\n",
       "        vertical-align: middle;\n",
       "    }\n",
       "\n",
       "    .dataframe tbody tr th {\n",
       "        vertical-align: top;\n",
       "    }\n",
       "\n",
       "    .dataframe thead th {\n",
       "        text-align: right;\n",
       "    }\n",
       "</style>\n",
       "<table border=\"1\" class=\"dataframe\">\n",
       "  <thead>\n",
       "    <tr style=\"text-align: right;\">\n",
       "      <th></th>\n",
       "      <th>ISBN</th>\n",
       "      <th>Book-Title</th>\n",
       "      <th>Book-Author</th>\n",
       "      <th>Year-Of-Publication</th>\n",
       "      <th>Publisher</th>\n",
       "      <th>Image-URL-S</th>\n",
       "      <th>Image-URL-M</th>\n",
       "      <th>Image-URL-L</th>\n",
       "    </tr>\n",
       "  </thead>\n",
       "  <tbody>\n",
       "    <tr>\n",
       "      <th>0</th>\n",
       "      <td>0195153448</td>\n",
       "      <td>Classical Mythology</td>\n",
       "      <td>Mark P. O. Morford</td>\n",
       "      <td>2002</td>\n",
       "      <td>Oxford University Press</td>\n",
       "      <td>http://images.amazon.com/images/P/0195153448.0...</td>\n",
       "      <td>http://images.amazon.com/images/P/0195153448.0...</td>\n",
       "      <td>http://images.amazon.com/images/P/0195153448.0...</td>\n",
       "    </tr>\n",
       "    <tr>\n",
       "      <th>1</th>\n",
       "      <td>0002005018</td>\n",
       "      <td>Clara Callan</td>\n",
       "      <td>Richard Bruce Wright</td>\n",
       "      <td>2001</td>\n",
       "      <td>HarperFlamingo Canada</td>\n",
       "      <td>http://images.amazon.com/images/P/0002005018.0...</td>\n",
       "      <td>http://images.amazon.com/images/P/0002005018.0...</td>\n",
       "      <td>http://images.amazon.com/images/P/0002005018.0...</td>\n",
       "    </tr>\n",
       "    <tr>\n",
       "      <th>2</th>\n",
       "      <td>0060973129</td>\n",
       "      <td>Decision in Normandy</td>\n",
       "      <td>Carlo D'Este</td>\n",
       "      <td>1991</td>\n",
       "      <td>HarperPerennial</td>\n",
       "      <td>http://images.amazon.com/images/P/0060973129.0...</td>\n",
       "      <td>http://images.amazon.com/images/P/0060973129.0...</td>\n",
       "      <td>http://images.amazon.com/images/P/0060973129.0...</td>\n",
       "    </tr>\n",
       "    <tr>\n",
       "      <th>3</th>\n",
       "      <td>0374157065</td>\n",
       "      <td>Flu: The Story of the Great Influenza Pandemic...</td>\n",
       "      <td>Gina Bari Kolata</td>\n",
       "      <td>1999</td>\n",
       "      <td>Farrar Straus Giroux</td>\n",
       "      <td>http://images.amazon.com/images/P/0374157065.0...</td>\n",
       "      <td>http://images.amazon.com/images/P/0374157065.0...</td>\n",
       "      <td>http://images.amazon.com/images/P/0374157065.0...</td>\n",
       "    </tr>\n",
       "    <tr>\n",
       "      <th>4</th>\n",
       "      <td>0393045218</td>\n",
       "      <td>The Mummies of Urumchi</td>\n",
       "      <td>E. J. W. Barber</td>\n",
       "      <td>1999</td>\n",
       "      <td>W. W. Norton &amp;amp; Company</td>\n",
       "      <td>http://images.amazon.com/images/P/0393045218.0...</td>\n",
       "      <td>http://images.amazon.com/images/P/0393045218.0...</td>\n",
       "      <td>http://images.amazon.com/images/P/0393045218.0...</td>\n",
       "    </tr>\n",
       "  </tbody>\n",
       "</table>\n",
       "</div>"
      ],
      "text/plain": [
       "         ISBN                                         Book-Title  \\\n",
       "0  0195153448                                Classical Mythology   \n",
       "1  0002005018                                       Clara Callan   \n",
       "2  0060973129                               Decision in Normandy   \n",
       "3  0374157065  Flu: The Story of the Great Influenza Pandemic...   \n",
       "4  0393045218                             The Mummies of Urumchi   \n",
       "\n",
       "            Book-Author Year-Of-Publication                   Publisher  \\\n",
       "0    Mark P. O. Morford                2002     Oxford University Press   \n",
       "1  Richard Bruce Wright                2001       HarperFlamingo Canada   \n",
       "2          Carlo D'Este                1991             HarperPerennial   \n",
       "3      Gina Bari Kolata                1999        Farrar Straus Giroux   \n",
       "4       E. J. W. Barber                1999  W. W. Norton &amp; Company   \n",
       "\n",
       "                                         Image-URL-S  \\\n",
       "0  http://images.amazon.com/images/P/0195153448.0...   \n",
       "1  http://images.amazon.com/images/P/0002005018.0...   \n",
       "2  http://images.amazon.com/images/P/0060973129.0...   \n",
       "3  http://images.amazon.com/images/P/0374157065.0...   \n",
       "4  http://images.amazon.com/images/P/0393045218.0...   \n",
       "\n",
       "                                         Image-URL-M  \\\n",
       "0  http://images.amazon.com/images/P/0195153448.0...   \n",
       "1  http://images.amazon.com/images/P/0002005018.0...   \n",
       "2  http://images.amazon.com/images/P/0060973129.0...   \n",
       "3  http://images.amazon.com/images/P/0374157065.0...   \n",
       "4  http://images.amazon.com/images/P/0393045218.0...   \n",
       "\n",
       "                                         Image-URL-L  \n",
       "0  http://images.amazon.com/images/P/0195153448.0...  \n",
       "1  http://images.amazon.com/images/P/0002005018.0...  \n",
       "2  http://images.amazon.com/images/P/0060973129.0...  \n",
       "3  http://images.amazon.com/images/P/0374157065.0...  \n",
       "4  http://images.amazon.com/images/P/0393045218.0...  "
      ]
     },
     "execution_count": 3,
     "metadata": {},
     "output_type": "execute_result"
    }
   ],
   "source": [
    "books.head()"
   ]
  },
  {
   "cell_type": "code",
   "execution_count": 4,
   "id": "10a7f8e7",
   "metadata": {
    "execution": {
     "iopub.execute_input": "2023-12-13T11:53:31.267752Z",
     "iopub.status.busy": "2023-12-13T11:53:31.267373Z",
     "iopub.status.idle": "2023-12-13T11:53:31.286563Z",
     "shell.execute_reply": "2023-12-13T11:53:31.285331Z"
    },
    "papermill": {
     "duration": 0.027918,
     "end_time": "2023-12-13T11:53:31.288888",
     "exception": false,
     "start_time": "2023-12-13T11:53:31.260970",
     "status": "completed"
    },
    "tags": []
   },
   "outputs": [
    {
     "data": {
      "text/html": [
       "<div>\n",
       "<style scoped>\n",
       "    .dataframe tbody tr th:only-of-type {\n",
       "        vertical-align: middle;\n",
       "    }\n",
       "\n",
       "    .dataframe tbody tr th {\n",
       "        vertical-align: top;\n",
       "    }\n",
       "\n",
       "    .dataframe thead th {\n",
       "        text-align: right;\n",
       "    }\n",
       "</style>\n",
       "<table border=\"1\" class=\"dataframe\">\n",
       "  <thead>\n",
       "    <tr style=\"text-align: right;\">\n",
       "      <th></th>\n",
       "      <th>User-ID</th>\n",
       "      <th>Location</th>\n",
       "      <th>Age</th>\n",
       "    </tr>\n",
       "  </thead>\n",
       "  <tbody>\n",
       "    <tr>\n",
       "      <th>0</th>\n",
       "      <td>1</td>\n",
       "      <td>nyc, new york, usa</td>\n",
       "      <td>NaN</td>\n",
       "    </tr>\n",
       "    <tr>\n",
       "      <th>1</th>\n",
       "      <td>2</td>\n",
       "      <td>stockton, california, usa</td>\n",
       "      <td>18.0</td>\n",
       "    </tr>\n",
       "    <tr>\n",
       "      <th>2</th>\n",
       "      <td>3</td>\n",
       "      <td>moscow, yukon territory, russia</td>\n",
       "      <td>NaN</td>\n",
       "    </tr>\n",
       "    <tr>\n",
       "      <th>3</th>\n",
       "      <td>4</td>\n",
       "      <td>porto, v.n.gaia, portugal</td>\n",
       "      <td>17.0</td>\n",
       "    </tr>\n",
       "    <tr>\n",
       "      <th>4</th>\n",
       "      <td>5</td>\n",
       "      <td>farnborough, hants, united kingdom</td>\n",
       "      <td>NaN</td>\n",
       "    </tr>\n",
       "  </tbody>\n",
       "</table>\n",
       "</div>"
      ],
      "text/plain": [
       "   User-ID                            Location   Age\n",
       "0        1                  nyc, new york, usa   NaN\n",
       "1        2           stockton, california, usa  18.0\n",
       "2        3     moscow, yukon territory, russia   NaN\n",
       "3        4           porto, v.n.gaia, portugal  17.0\n",
       "4        5  farnborough, hants, united kingdom   NaN"
      ]
     },
     "execution_count": 4,
     "metadata": {},
     "output_type": "execute_result"
    }
   ],
   "source": [
    "user.head()"
   ]
  },
  {
   "cell_type": "code",
   "execution_count": 5,
   "id": "a8b2ddee",
   "metadata": {
    "execution": {
     "iopub.execute_input": "2023-12-13T11:53:31.304661Z",
     "iopub.status.busy": "2023-12-13T11:53:31.303538Z",
     "iopub.status.idle": "2023-12-13T11:53:31.317345Z",
     "shell.execute_reply": "2023-12-13T11:53:31.316556Z"
    },
    "papermill": {
     "duration": 0.023715,
     "end_time": "2023-12-13T11:53:31.319616",
     "exception": false,
     "start_time": "2023-12-13T11:53:31.295901",
     "status": "completed"
    },
    "tags": []
   },
   "outputs": [
    {
     "data": {
      "text/html": [
       "<div>\n",
       "<style scoped>\n",
       "    .dataframe tbody tr th:only-of-type {\n",
       "        vertical-align: middle;\n",
       "    }\n",
       "\n",
       "    .dataframe tbody tr th {\n",
       "        vertical-align: top;\n",
       "    }\n",
       "\n",
       "    .dataframe thead th {\n",
       "        text-align: right;\n",
       "    }\n",
       "</style>\n",
       "<table border=\"1\" class=\"dataframe\">\n",
       "  <thead>\n",
       "    <tr style=\"text-align: right;\">\n",
       "      <th></th>\n",
       "      <th>User-ID</th>\n",
       "      <th>ISBN</th>\n",
       "      <th>Book-Rating</th>\n",
       "    </tr>\n",
       "  </thead>\n",
       "  <tbody>\n",
       "    <tr>\n",
       "      <th>0</th>\n",
       "      <td>276725</td>\n",
       "      <td>034545104X</td>\n",
       "      <td>0</td>\n",
       "    </tr>\n",
       "    <tr>\n",
       "      <th>1</th>\n",
       "      <td>276726</td>\n",
       "      <td>0155061224</td>\n",
       "      <td>5</td>\n",
       "    </tr>\n",
       "    <tr>\n",
       "      <th>2</th>\n",
       "      <td>276727</td>\n",
       "      <td>0446520802</td>\n",
       "      <td>0</td>\n",
       "    </tr>\n",
       "    <tr>\n",
       "      <th>3</th>\n",
       "      <td>276729</td>\n",
       "      <td>052165615X</td>\n",
       "      <td>3</td>\n",
       "    </tr>\n",
       "    <tr>\n",
       "      <th>4</th>\n",
       "      <td>276729</td>\n",
       "      <td>0521795028</td>\n",
       "      <td>6</td>\n",
       "    </tr>\n",
       "  </tbody>\n",
       "</table>\n",
       "</div>"
      ],
      "text/plain": [
       "   User-ID        ISBN  Book-Rating\n",
       "0   276725  034545104X            0\n",
       "1   276726  0155061224            5\n",
       "2   276727  0446520802            0\n",
       "3   276729  052165615X            3\n",
       "4   276729  0521795028            6"
      ]
     },
     "execution_count": 5,
     "metadata": {},
     "output_type": "execute_result"
    }
   ],
   "source": [
    "ratings.head()"
   ]
  },
  {
   "cell_type": "code",
   "execution_count": 6,
   "id": "4379ed09",
   "metadata": {
    "execution": {
     "iopub.execute_input": "2023-12-13T11:53:31.335254Z",
     "iopub.status.busy": "2023-12-13T11:53:31.334925Z",
     "iopub.status.idle": "2023-12-13T11:53:31.345147Z",
     "shell.execute_reply": "2023-12-13T11:53:31.343546Z"
    },
    "papermill": {
     "duration": 0.019809,
     "end_time": "2023-12-13T11:53:31.347753",
     "exception": false,
     "start_time": "2023-12-13T11:53:31.327944",
     "status": "completed"
    },
    "tags": []
   },
   "outputs": [
    {
     "name": "stdout",
     "output_type": "stream",
     "text": [
      "(271360, 8) (278858, 3) (1149780, 3)\n"
     ]
    }
   ],
   "source": [
    "print(books.shape,user.shape,ratings.shape)"
   ]
  },
  {
   "cell_type": "code",
   "execution_count": 7,
   "id": "5f3be3df",
   "metadata": {
    "execution": {
     "iopub.execute_input": "2023-12-13T11:53:31.362386Z",
     "iopub.status.busy": "2023-12-13T11:53:31.362082Z",
     "iopub.status.idle": "2023-12-13T11:53:31.446136Z",
     "shell.execute_reply": "2023-12-13T11:53:31.444475Z"
    },
    "papermill": {
     "duration": 0.09437,
     "end_time": "2023-12-13T11:53:31.449060",
     "exception": false,
     "start_time": "2023-12-13T11:53:31.354690",
     "status": "completed"
    },
    "tags": []
   },
   "outputs": [
    {
     "data": {
      "text/plain": [
       "ISBN                   0\n",
       "Book-Title             0\n",
       "Book-Author            2\n",
       "Year-Of-Publication    0\n",
       "Publisher              2\n",
       "Image-URL-S            0\n",
       "Image-URL-M            0\n",
       "Image-URL-L            3\n",
       "dtype: int64"
      ]
     },
     "execution_count": 7,
     "metadata": {},
     "output_type": "execute_result"
    }
   ],
   "source": [
    "books.isnull().sum()"
   ]
  },
  {
   "cell_type": "code",
   "execution_count": 8,
   "id": "f9c3fb19",
   "metadata": {
    "execution": {
     "iopub.execute_input": "2023-12-13T11:53:31.462912Z",
     "iopub.status.busy": "2023-12-13T11:53:31.462525Z",
     "iopub.status.idle": "2023-12-13T11:53:31.484258Z",
     "shell.execute_reply": "2023-12-13T11:53:31.483362Z"
    },
    "papermill": {
     "duration": 0.031104,
     "end_time": "2023-12-13T11:53:31.486274",
     "exception": false,
     "start_time": "2023-12-13T11:53:31.455170",
     "status": "completed"
    },
    "tags": []
   },
   "outputs": [
    {
     "data": {
      "text/plain": [
       "User-ID          0\n",
       "Location         0\n",
       "Age         110762\n",
       "dtype: int64"
      ]
     },
     "execution_count": 8,
     "metadata": {},
     "output_type": "execute_result"
    }
   ],
   "source": [
    "user.isnull().sum()"
   ]
  },
  {
   "cell_type": "code",
   "execution_count": 9,
   "id": "bab9aa17",
   "metadata": {
    "execution": {
     "iopub.execute_input": "2023-12-13T11:53:31.500965Z",
     "iopub.status.busy": "2023-12-13T11:53:31.500305Z",
     "iopub.status.idle": "2023-12-13T11:53:31.565627Z",
     "shell.execute_reply": "2023-12-13T11:53:31.564744Z"
    },
    "papermill": {
     "duration": 0.075438,
     "end_time": "2023-12-13T11:53:31.568177",
     "exception": false,
     "start_time": "2023-12-13T11:53:31.492739",
     "status": "completed"
    },
    "tags": []
   },
   "outputs": [
    {
     "data": {
      "text/plain": [
       "User-ID        0\n",
       "ISBN           0\n",
       "Book-Rating    0\n",
       "dtype: int64"
      ]
     },
     "execution_count": 9,
     "metadata": {},
     "output_type": "execute_result"
    }
   ],
   "source": [
    "ratings.isnull().sum()"
   ]
  },
  {
   "cell_type": "code",
   "execution_count": 10,
   "id": "3e465fcc",
   "metadata": {
    "execution": {
     "iopub.execute_input": "2023-12-13T11:53:31.583342Z",
     "iopub.status.busy": "2023-12-13T11:53:31.582605Z",
     "iopub.status.idle": "2023-12-13T11:53:32.539195Z",
     "shell.execute_reply": "2023-12-13T11:53:32.537742Z"
    },
    "papermill": {
     "duration": 0.966465,
     "end_time": "2023-12-13T11:53:32.541802",
     "exception": false,
     "start_time": "2023-12-13T11:53:31.575337",
     "status": "completed"
    },
    "tags": []
   },
   "outputs": [
    {
     "data": {
      "text/html": [
       "<div>\n",
       "<style scoped>\n",
       "    .dataframe tbody tr th:only-of-type {\n",
       "        vertical-align: middle;\n",
       "    }\n",
       "\n",
       "    .dataframe tbody tr th {\n",
       "        vertical-align: top;\n",
       "    }\n",
       "\n",
       "    .dataframe thead th {\n",
       "        text-align: right;\n",
       "    }\n",
       "</style>\n",
       "<table border=\"1\" class=\"dataframe\">\n",
       "  <thead>\n",
       "    <tr style=\"text-align: right;\">\n",
       "      <th></th>\n",
       "      <th>Book-Title</th>\n",
       "      <th>Book-Author</th>\n",
       "      <th>Image-URL-L</th>\n",
       "      <th>User-ID</th>\n",
       "      <th>Book-Rating</th>\n",
       "    </tr>\n",
       "  </thead>\n",
       "  <tbody>\n",
       "    <tr>\n",
       "      <th>0</th>\n",
       "      <td>Classical Mythology</td>\n",
       "      <td>Mark P. O. Morford</td>\n",
       "      <td>http://images.amazon.com/images/P/0195153448.0...</td>\n",
       "      <td>2</td>\n",
       "      <td>0</td>\n",
       "    </tr>\n",
       "    <tr>\n",
       "      <th>1</th>\n",
       "      <td>Clara Callan</td>\n",
       "      <td>Richard Bruce Wright</td>\n",
       "      <td>http://images.amazon.com/images/P/0002005018.0...</td>\n",
       "      <td>8</td>\n",
       "      <td>5</td>\n",
       "    </tr>\n",
       "    <tr>\n",
       "      <th>2</th>\n",
       "      <td>Clara Callan</td>\n",
       "      <td>Richard Bruce Wright</td>\n",
       "      <td>http://images.amazon.com/images/P/0002005018.0...</td>\n",
       "      <td>11400</td>\n",
       "      <td>0</td>\n",
       "    </tr>\n",
       "    <tr>\n",
       "      <th>3</th>\n",
       "      <td>Clara Callan</td>\n",
       "      <td>Richard Bruce Wright</td>\n",
       "      <td>http://images.amazon.com/images/P/0002005018.0...</td>\n",
       "      <td>11676</td>\n",
       "      <td>8</td>\n",
       "    </tr>\n",
       "    <tr>\n",
       "      <th>4</th>\n",
       "      <td>Clara Callan</td>\n",
       "      <td>Richard Bruce Wright</td>\n",
       "      <td>http://images.amazon.com/images/P/0002005018.0...</td>\n",
       "      <td>41385</td>\n",
       "      <td>0</td>\n",
       "    </tr>\n",
       "    <tr>\n",
       "      <th>...</th>\n",
       "      <td>...</td>\n",
       "      <td>...</td>\n",
       "      <td>...</td>\n",
       "      <td>...</td>\n",
       "      <td>...</td>\n",
       "    </tr>\n",
       "    <tr>\n",
       "      <th>1031131</th>\n",
       "      <td>There's a Bat in Bunk Five</td>\n",
       "      <td>Paula Danziger</td>\n",
       "      <td>http://images.amazon.com/images/P/0440400988.0...</td>\n",
       "      <td>276463</td>\n",
       "      <td>7</td>\n",
       "    </tr>\n",
       "    <tr>\n",
       "      <th>1031132</th>\n",
       "      <td>From One to One Hundred</td>\n",
       "      <td>Teri Sloat</td>\n",
       "      <td>http://images.amazon.com/images/P/0525447644.0...</td>\n",
       "      <td>276579</td>\n",
       "      <td>4</td>\n",
       "    </tr>\n",
       "    <tr>\n",
       "      <th>1031133</th>\n",
       "      <td>Lily Dale : The True Story of the Town that Ta...</td>\n",
       "      <td>Christine Wicker</td>\n",
       "      <td>http://images.amazon.com/images/P/006008667X.0...</td>\n",
       "      <td>276680</td>\n",
       "      <td>0</td>\n",
       "    </tr>\n",
       "    <tr>\n",
       "      <th>1031134</th>\n",
       "      <td>Republic (World's Classics)</td>\n",
       "      <td>Plato</td>\n",
       "      <td>http://images.amazon.com/images/P/0192126040.0...</td>\n",
       "      <td>276680</td>\n",
       "      <td>0</td>\n",
       "    </tr>\n",
       "    <tr>\n",
       "      <th>1031135</th>\n",
       "      <td>A Guided Tour of Rene Descartes' Meditations o...</td>\n",
       "      <td>Christopher  Biffle</td>\n",
       "      <td>http://images.amazon.com/images/P/0767409752.0...</td>\n",
       "      <td>276680</td>\n",
       "      <td>0</td>\n",
       "    </tr>\n",
       "  </tbody>\n",
       "</table>\n",
       "<p>1031136 rows × 5 columns</p>\n",
       "</div>"
      ],
      "text/plain": [
       "                                                Book-Title  \\\n",
       "0                                      Classical Mythology   \n",
       "1                                             Clara Callan   \n",
       "2                                             Clara Callan   \n",
       "3                                             Clara Callan   \n",
       "4                                             Clara Callan   \n",
       "...                                                    ...   \n",
       "1031131                         There's a Bat in Bunk Five   \n",
       "1031132                            From One to One Hundred   \n",
       "1031133  Lily Dale : The True Story of the Town that Ta...   \n",
       "1031134                        Republic (World's Classics)   \n",
       "1031135  A Guided Tour of Rene Descartes' Meditations o...   \n",
       "\n",
       "                  Book-Author  \\\n",
       "0          Mark P. O. Morford   \n",
       "1        Richard Bruce Wright   \n",
       "2        Richard Bruce Wright   \n",
       "3        Richard Bruce Wright   \n",
       "4        Richard Bruce Wright   \n",
       "...                       ...   \n",
       "1031131        Paula Danziger   \n",
       "1031132            Teri Sloat   \n",
       "1031133      Christine Wicker   \n",
       "1031134                 Plato   \n",
       "1031135   Christopher  Biffle   \n",
       "\n",
       "                                               Image-URL-L  User-ID  \\\n",
       "0        http://images.amazon.com/images/P/0195153448.0...        2   \n",
       "1        http://images.amazon.com/images/P/0002005018.0...        8   \n",
       "2        http://images.amazon.com/images/P/0002005018.0...    11400   \n",
       "3        http://images.amazon.com/images/P/0002005018.0...    11676   \n",
       "4        http://images.amazon.com/images/P/0002005018.0...    41385   \n",
       "...                                                    ...      ...   \n",
       "1031131  http://images.amazon.com/images/P/0440400988.0...   276463   \n",
       "1031132  http://images.amazon.com/images/P/0525447644.0...   276579   \n",
       "1031133  http://images.amazon.com/images/P/006008667X.0...   276680   \n",
       "1031134  http://images.amazon.com/images/P/0192126040.0...   276680   \n",
       "1031135  http://images.amazon.com/images/P/0767409752.0...   276680   \n",
       "\n",
       "         Book-Rating  \n",
       "0                  0  \n",
       "1                  5  \n",
       "2                  0  \n",
       "3                  8  \n",
       "4                  0  \n",
       "...              ...  \n",
       "1031131            7  \n",
       "1031132            4  \n",
       "1031133            0  \n",
       "1031134            0  \n",
       "1031135            0  \n",
       "\n",
       "[1031136 rows x 5 columns]"
      ]
     },
     "execution_count": 10,
     "metadata": {},
     "output_type": "execute_result"
    }
   ],
   "source": [
    "# droping unwanted columns.\n",
    "\n",
    "newdf = books.merge(ratings,on='ISBN')\n",
    "newdf.drop(columns=['ISBN','Year-Of-Publication','Publisher','Image-URL-S','Image-URL-M'],inplace =True)\n",
    "newdf"
   ]
  },
  {
   "cell_type": "markdown",
   "id": "6a09de1d",
   "metadata": {
    "papermill": {
     "duration": 0.006771,
     "end_time": "2023-12-13T11:53:32.555741",
     "exception": false,
     "start_time": "2023-12-13T11:53:32.548970",
     "status": "completed"
    },
    "tags": []
   },
   "source": [
    "# collaborative Filtering Based Recommender System"
   ]
  },
  {
   "cell_type": "code",
   "execution_count": 11,
   "id": "70c81fbc",
   "metadata": {
    "execution": {
     "iopub.execute_input": "2023-12-13T11:53:32.569566Z",
     "iopub.status.busy": "2023-12-13T11:53:32.569162Z",
     "iopub.status.idle": "2023-12-13T11:53:34.620330Z",
     "shell.execute_reply": "2023-12-13T11:53:34.619649Z"
    },
    "papermill": {
     "duration": 2.060151,
     "end_time": "2023-12-13T11:53:34.622159",
     "exception": false,
     "start_time": "2023-12-13T11:53:32.562008",
     "status": "completed"
    },
    "tags": []
   },
   "outputs": [
    {
     "data": {
      "image/png": "[encoded data removed]",
      "text/plain": [
       "<Figure size 640x480 with 1 Axes>"
      ]
     },
     "metadata": {},
     "output_type": "display_data"
    }
   ],
   "source": [
    "import seaborn as sns\n",
    "ax = sns.countplot(newdf,x=newdf['Book-Rating'])\n",
    "for i in ax.containers:\n",
    "    ax.bar_label(i)"
   ]
  },
  {
   "cell_type": "code",
   "execution_count": 12,
   "id": "0e4a0e40",
   "metadata": {
    "execution": {
     "iopub.execute_input": "2023-12-13T11:53:34.637148Z",
     "iopub.status.busy": "2023-12-13T11:53:34.636667Z",
     "iopub.status.idle": "2023-12-13T11:53:34.787802Z",
     "shell.execute_reply": "2023-12-13T11:53:34.786837Z"
    },
    "papermill": {
     "duration": 0.161339,
     "end_time": "2023-12-13T11:53:34.790115",
     "exception": false,
     "start_time": "2023-12-13T11:53:34.628776",
     "status": "completed"
    },
    "tags": []
   },
   "outputs": [],
   "source": [
    "# Extract the user ids who have given more than 150 ratings\n",
    "\n",
    "indx = newdf.groupby('User-ID').count()['Book-Rating']>150\n",
    "indx = indx[indx].index"
   ]
  },
  {
   "cell_type": "code",
   "execution_count": 13,
   "id": "2bc5ba32",
   "metadata": {
    "execution": {
     "iopub.execute_input": "2023-12-13T11:53:34.806882Z",
     "iopub.status.busy": "2023-12-13T11:53:34.805978Z",
     "iopub.status.idle": "2023-12-13T11:53:34.859442Z",
     "shell.execute_reply": "2023-12-13T11:53:34.857811Z"
    },
    "papermill": {
     "duration": 0.064418,
     "end_time": "2023-12-13T11:53:34.861984",
     "exception": false,
     "start_time": "2023-12-13T11:53:34.797566",
     "status": "completed"
    },
    "tags": []
   },
   "outputs": [],
   "source": [
    "# final filtered data that who have given more than 150 ratings\n",
    "\n",
    "data_filter = newdf[newdf['User-ID'].isin(indx)]"
   ]
  },
  {
   "cell_type": "code",
   "execution_count": 14,
   "id": "60b8c3be",
   "metadata": {
    "execution": {
     "iopub.execute_input": "2023-12-13T11:53:34.877199Z",
     "iopub.status.busy": "2023-12-13T11:53:34.876870Z",
     "iopub.status.idle": "2023-12-13T11:53:35.257663Z",
     "shell.execute_reply": "2023-12-13T11:53:35.256421Z"
    },
    "papermill": {
     "duration": 0.390992,
     "end_time": "2023-12-13T11:53:35.260006",
     "exception": false,
     "start_time": "2023-12-13T11:53:34.869014",
     "status": "completed"
    },
    "tags": []
   },
   "outputs": [],
   "source": [
    "# Extract books that have received more than 50 ratings\n",
    "\n",
    "index_50 = data_filter.groupby('Book-Title').count()['Book-Rating']>=50\n",
    "rated_books = index_50[index_50].index"
   ]
  },
  {
   "cell_type": "code",
   "execution_count": 15,
   "id": "e38bf222",
   "metadata": {
    "execution": {
     "iopub.execute_input": "2023-12-13T11:53:35.276480Z",
     "iopub.status.busy": "2023-12-13T11:53:35.274613Z",
     "iopub.status.idle": "2023-12-13T11:53:35.312594Z",
     "shell.execute_reply": "2023-12-13T11:53:35.311050Z"
    },
    "papermill": {
     "duration": 0.047996,
     "end_time": "2023-12-13T11:53:35.314806",
     "exception": false,
     "start_time": "2023-12-13T11:53:35.266810",
     "status": "completed"
    },
    "tags": []
   },
   "outputs": [],
   "source": [
    "# final data books that have received more than 50 ratings\n",
    "\n",
    "rated_books = data_filter[data_filter['Book-Title'].isin(rated_books)]"
   ]
  },
  {
   "cell_type": "code",
   "execution_count": 16,
   "id": "e9c5e5a4",
   "metadata": {
    "execution": {
     "iopub.execute_input": "2023-12-13T11:53:35.329152Z",
     "iopub.status.busy": "2023-12-13T11:53:35.328816Z",
     "iopub.status.idle": "2023-12-13T11:53:35.385354Z",
     "shell.execute_reply": "2023-12-13T11:53:35.384449Z"
    },
    "papermill": {
     "duration": 0.066335,
     "end_time": "2023-12-13T11:53:35.387717",
     "exception": false,
     "start_time": "2023-12-13T11:53:35.321382",
     "status": "completed"
    },
    "tags": []
   },
   "outputs": [],
   "source": [
    "# Create pivot table for cosine cosine_similarity\n",
    "\n",
    "final_dt = rated_books.pivot_table(index='Book-Title',columns='User-ID',values='Book-Rating')"
   ]
  },
  {
   "cell_type": "code",
   "execution_count": 17,
   "id": "efd1c482",
   "metadata": {
    "execution": {
     "iopub.execute_input": "2023-12-13T11:53:35.402265Z",
     "iopub.status.busy": "2023-12-13T11:53:35.401947Z",
     "iopub.status.idle": "2023-12-13T11:53:35.445516Z",
     "shell.execute_reply": "2023-12-13T11:53:35.443908Z"
    },
    "papermill": {
     "duration": 0.053256,
     "end_time": "2023-12-13T11:53:35.447909",
     "exception": false,
     "start_time": "2023-12-13T11:53:35.394653",
     "status": "completed"
    },
    "tags": []
   },
   "outputs": [
    {
     "data": {
      "text/html": [
       "<div>\n",
       "<style scoped>\n",
       "    .dataframe tbody tr th:only-of-type {\n",
       "        vertical-align: middle;\n",
       "    }\n",
       "\n",
       "    .dataframe tbody tr th {\n",
       "        vertical-align: top;\n",
       "    }\n",
       "\n",
       "    .dataframe thead th {\n",
       "        text-align: right;\n",
       "    }\n",
       "</style>\n",
       "<table border=\"1\" class=\"dataframe\">\n",
       "  <thead>\n",
       "    <tr style=\"text-align: right;\">\n",
       "      <th>User-ID</th>\n",
       "      <th>254</th>\n",
       "      <th>1733</th>\n",
       "      <th>1903</th>\n",
       "      <th>2033</th>\n",
       "      <th>2110</th>\n",
       "      <th>2276</th>\n",
       "      <th>2766</th>\n",
       "      <th>2891</th>\n",
       "      <th>2977</th>\n",
       "      <th>3363</th>\n",
       "      <th>...</th>\n",
       "      <th>274301</th>\n",
       "      <th>274308</th>\n",
       "      <th>274808</th>\n",
       "      <th>275970</th>\n",
       "      <th>276680</th>\n",
       "      <th>277427</th>\n",
       "      <th>277478</th>\n",
       "      <th>277639</th>\n",
       "      <th>278188</th>\n",
       "      <th>278418</th>\n",
       "    </tr>\n",
       "    <tr>\n",
       "      <th>Book-Title</th>\n",
       "      <th></th>\n",
       "      <th></th>\n",
       "      <th></th>\n",
       "      <th></th>\n",
       "      <th></th>\n",
       "      <th></th>\n",
       "      <th></th>\n",
       "      <th></th>\n",
       "      <th></th>\n",
       "      <th></th>\n",
       "      <th></th>\n",
       "      <th></th>\n",
       "      <th></th>\n",
       "      <th></th>\n",
       "      <th></th>\n",
       "      <th></th>\n",
       "      <th></th>\n",
       "      <th></th>\n",
       "      <th></th>\n",
       "      <th></th>\n",
       "      <th></th>\n",
       "    </tr>\n",
       "  </thead>\n",
       "  <tbody>\n",
       "    <tr>\n",
       "      <th>1984</th>\n",
       "      <td>9.0</td>\n",
       "      <td>0.0</td>\n",
       "      <td>0.0</td>\n",
       "      <td>0.0</td>\n",
       "      <td>0.0</td>\n",
       "      <td>0.0</td>\n",
       "      <td>0.0</td>\n",
       "      <td>0.0</td>\n",
       "      <td>0.0</td>\n",
       "      <td>0.0</td>\n",
       "      <td>...</td>\n",
       "      <td>0.0</td>\n",
       "      <td>0.0</td>\n",
       "      <td>0.0</td>\n",
       "      <td>0.0</td>\n",
       "      <td>0.0</td>\n",
       "      <td>0.0</td>\n",
       "      <td>0.0</td>\n",
       "      <td>0.0</td>\n",
       "      <td>0.0</td>\n",
       "      <td>0.0</td>\n",
       "    </tr>\n",
       "    <tr>\n",
       "      <th>1st to Die: A Novel</th>\n",
       "      <td>0.0</td>\n",
       "      <td>0.0</td>\n",
       "      <td>0.0</td>\n",
       "      <td>0.0</td>\n",
       "      <td>0.0</td>\n",
       "      <td>0.0</td>\n",
       "      <td>0.0</td>\n",
       "      <td>0.0</td>\n",
       "      <td>0.0</td>\n",
       "      <td>0.0</td>\n",
       "      <td>...</td>\n",
       "      <td>0.0</td>\n",
       "      <td>0.0</td>\n",
       "      <td>0.0</td>\n",
       "      <td>0.0</td>\n",
       "      <td>0.0</td>\n",
       "      <td>0.0</td>\n",
       "      <td>0.0</td>\n",
       "      <td>0.0</td>\n",
       "      <td>0.0</td>\n",
       "      <td>0.0</td>\n",
       "    </tr>\n",
       "    <tr>\n",
       "      <th>2nd Chance</th>\n",
       "      <td>0.0</td>\n",
       "      <td>0.0</td>\n",
       "      <td>0.0</td>\n",
       "      <td>0.0</td>\n",
       "      <td>0.0</td>\n",
       "      <td>10.0</td>\n",
       "      <td>0.0</td>\n",
       "      <td>0.0</td>\n",
       "      <td>0.0</td>\n",
       "      <td>0.0</td>\n",
       "      <td>...</td>\n",
       "      <td>0.0</td>\n",
       "      <td>0.0</td>\n",
       "      <td>0.0</td>\n",
       "      <td>0.0</td>\n",
       "      <td>0.0</td>\n",
       "      <td>0.0</td>\n",
       "      <td>0.0</td>\n",
       "      <td>0.0</td>\n",
       "      <td>0.0</td>\n",
       "      <td>0.0</td>\n",
       "    </tr>\n",
       "    <tr>\n",
       "      <th>4 Blondes</th>\n",
       "      <td>0.0</td>\n",
       "      <td>0.0</td>\n",
       "      <td>0.0</td>\n",
       "      <td>0.0</td>\n",
       "      <td>0.0</td>\n",
       "      <td>0.0</td>\n",
       "      <td>0.0</td>\n",
       "      <td>0.0</td>\n",
       "      <td>0.0</td>\n",
       "      <td>0.0</td>\n",
       "      <td>...</td>\n",
       "      <td>0.0</td>\n",
       "      <td>0.0</td>\n",
       "      <td>0.0</td>\n",
       "      <td>0.0</td>\n",
       "      <td>0.0</td>\n",
       "      <td>0.0</td>\n",
       "      <td>0.0</td>\n",
       "      <td>0.0</td>\n",
       "      <td>0.0</td>\n",
       "      <td>0.0</td>\n",
       "    </tr>\n",
       "    <tr>\n",
       "      <th>84 Charing Cross Road</th>\n",
       "      <td>0.0</td>\n",
       "      <td>0.0</td>\n",
       "      <td>0.0</td>\n",
       "      <td>0.0</td>\n",
       "      <td>0.0</td>\n",
       "      <td>0.0</td>\n",
       "      <td>0.0</td>\n",
       "      <td>0.0</td>\n",
       "      <td>0.0</td>\n",
       "      <td>0.0</td>\n",
       "      <td>...</td>\n",
       "      <td>0.0</td>\n",
       "      <td>0.0</td>\n",
       "      <td>0.0</td>\n",
       "      <td>10.0</td>\n",
       "      <td>0.0</td>\n",
       "      <td>0.0</td>\n",
       "      <td>0.0</td>\n",
       "      <td>0.0</td>\n",
       "      <td>0.0</td>\n",
       "      <td>0.0</td>\n",
       "    </tr>\n",
       "    <tr>\n",
       "      <th>...</th>\n",
       "      <td>...</td>\n",
       "      <td>...</td>\n",
       "      <td>...</td>\n",
       "      <td>...</td>\n",
       "      <td>...</td>\n",
       "      <td>...</td>\n",
       "      <td>...</td>\n",
       "      <td>...</td>\n",
       "      <td>...</td>\n",
       "      <td>...</td>\n",
       "      <td>...</td>\n",
       "      <td>...</td>\n",
       "      <td>...</td>\n",
       "      <td>...</td>\n",
       "      <td>...</td>\n",
       "      <td>...</td>\n",
       "      <td>...</td>\n",
       "      <td>...</td>\n",
       "      <td>...</td>\n",
       "      <td>...</td>\n",
       "      <td>...</td>\n",
       "    </tr>\n",
       "    <tr>\n",
       "      <th>Year of Wonders</th>\n",
       "      <td>0.0</td>\n",
       "      <td>0.0</td>\n",
       "      <td>0.0</td>\n",
       "      <td>0.0</td>\n",
       "      <td>0.0</td>\n",
       "      <td>0.0</td>\n",
       "      <td>0.0</td>\n",
       "      <td>0.0</td>\n",
       "      <td>7.0</td>\n",
       "      <td>0.0</td>\n",
       "      <td>...</td>\n",
       "      <td>0.0</td>\n",
       "      <td>0.0</td>\n",
       "      <td>0.0</td>\n",
       "      <td>0.0</td>\n",
       "      <td>0.0</td>\n",
       "      <td>0.0</td>\n",
       "      <td>0.0</td>\n",
       "      <td>0.0</td>\n",
       "      <td>0.0</td>\n",
       "      <td>0.0</td>\n",
       "    </tr>\n",
       "    <tr>\n",
       "      <th>You Belong To Me</th>\n",
       "      <td>0.0</td>\n",
       "      <td>0.0</td>\n",
       "      <td>0.0</td>\n",
       "      <td>0.0</td>\n",
       "      <td>0.0</td>\n",
       "      <td>0.0</td>\n",
       "      <td>0.0</td>\n",
       "      <td>0.0</td>\n",
       "      <td>0.0</td>\n",
       "      <td>0.0</td>\n",
       "      <td>...</td>\n",
       "      <td>0.0</td>\n",
       "      <td>0.0</td>\n",
       "      <td>0.0</td>\n",
       "      <td>0.0</td>\n",
       "      <td>0.0</td>\n",
       "      <td>0.0</td>\n",
       "      <td>0.0</td>\n",
       "      <td>0.0</td>\n",
       "      <td>0.0</td>\n",
       "      <td>0.0</td>\n",
       "    </tr>\n",
       "    <tr>\n",
       "      <th>Zen and the Art of Motorcycle Maintenance: An Inquiry into Values</th>\n",
       "      <td>0.0</td>\n",
       "      <td>0.0</td>\n",
       "      <td>0.0</td>\n",
       "      <td>0.0</td>\n",
       "      <td>0.0</td>\n",
       "      <td>0.0</td>\n",
       "      <td>0.0</td>\n",
       "      <td>0.0</td>\n",
       "      <td>0.0</td>\n",
       "      <td>0.0</td>\n",
       "      <td>...</td>\n",
       "      <td>0.0</td>\n",
       "      <td>0.0</td>\n",
       "      <td>0.0</td>\n",
       "      <td>0.0</td>\n",
       "      <td>0.0</td>\n",
       "      <td>0.0</td>\n",
       "      <td>0.0</td>\n",
       "      <td>0.0</td>\n",
       "      <td>0.0</td>\n",
       "      <td>0.0</td>\n",
       "    </tr>\n",
       "    <tr>\n",
       "      <th>Zoya</th>\n",
       "      <td>0.0</td>\n",
       "      <td>0.0</td>\n",
       "      <td>0.0</td>\n",
       "      <td>0.0</td>\n",
       "      <td>0.0</td>\n",
       "      <td>0.0</td>\n",
       "      <td>0.0</td>\n",
       "      <td>0.0</td>\n",
       "      <td>0.0</td>\n",
       "      <td>0.0</td>\n",
       "      <td>...</td>\n",
       "      <td>0.0</td>\n",
       "      <td>0.0</td>\n",
       "      <td>0.0</td>\n",
       "      <td>0.0</td>\n",
       "      <td>0.0</td>\n",
       "      <td>0.0</td>\n",
       "      <td>0.0</td>\n",
       "      <td>0.0</td>\n",
       "      <td>0.0</td>\n",
       "      <td>0.0</td>\n",
       "    </tr>\n",
       "    <tr>\n",
       "      <th>\\O\\\" Is for Outlaw\"</th>\n",
       "      <td>0.0</td>\n",
       "      <td>0.0</td>\n",
       "      <td>0.0</td>\n",
       "      <td>0.0</td>\n",
       "      <td>0.0</td>\n",
       "      <td>0.0</td>\n",
       "      <td>0.0</td>\n",
       "      <td>0.0</td>\n",
       "      <td>0.0</td>\n",
       "      <td>0.0</td>\n",
       "      <td>...</td>\n",
       "      <td>8.0</td>\n",
       "      <td>0.0</td>\n",
       "      <td>0.0</td>\n",
       "      <td>0.0</td>\n",
       "      <td>0.0</td>\n",
       "      <td>0.0</td>\n",
       "      <td>0.0</td>\n",
       "      <td>0.0</td>\n",
       "      <td>0.0</td>\n",
       "      <td>0.0</td>\n",
       "    </tr>\n",
       "  </tbody>\n",
       "</table>\n",
       "<p>868 rows × 1110 columns</p>\n",
       "</div>"
      ],
      "text/plain": [
       "User-ID                                             254     1733    1903    \\\n",
       "Book-Title                                                                   \n",
       "1984                                                   9.0     0.0     0.0   \n",
       "1st to Die: A Novel                                    0.0     0.0     0.0   \n",
       "2nd Chance                                             0.0     0.0     0.0   \n",
       "4 Blondes                                              0.0     0.0     0.0   \n",
       "84 Charing Cross Road                                  0.0     0.0     0.0   \n",
       "...                                                    ...     ...     ...   \n",
       "Year of Wonders                                        0.0     0.0     0.0   \n",
       "You Belong To Me                                       0.0     0.0     0.0   \n",
       "Zen and the Art of Motorcycle Maintenance: An I...     0.0     0.0     0.0   \n",
       "Zoya                                                   0.0     0.0     0.0   \n",
       "\\O\\\" Is for Outlaw\"                                    0.0     0.0     0.0   \n",
       "\n",
       "User-ID                                             2033    2110    2276    \\\n",
       "Book-Title                                                                   \n",
       "1984                                                   0.0     0.0     0.0   \n",
       "1st to Die: A Novel                                    0.0     0.0     0.0   \n",
       "2nd Chance                                             0.0     0.0    10.0   \n",
       "4 Blondes                                              0.0     0.0     0.0   \n",
       "84 Charing Cross Road                                  0.0     0.0     0.0   \n",
       "...                                                    ...     ...     ...   \n",
       "Year of Wonders                                        0.0     0.0     0.0   \n",
       "You Belong To Me                                       0.0     0.0     0.0   \n",
       "Zen and the Art of Motorcycle Maintenance: An I...     0.0     0.0     0.0   \n",
       "Zoya                                                   0.0     0.0     0.0   \n",
       "\\O\\\" Is for Outlaw\"                                    0.0     0.0     0.0   \n",
       "\n",
       "User-ID                                             2766    2891    2977    \\\n",
       "Book-Title                                                                   \n",
       "1984                                                   0.0     0.0     0.0   \n",
       "1st to Die: A Novel                                    0.0     0.0     0.0   \n",
       "2nd Chance                                             0.0     0.0     0.0   \n",
       "4 Blondes                                              0.0     0.0     0.0   \n",
       "84 Charing Cross Road                                  0.0     0.0     0.0   \n",
       "...                                                    ...     ...     ...   \n",
       "Year of Wonders                                        0.0     0.0     7.0   \n",
       "You Belong To Me                                       0.0     0.0     0.0   \n",
       "Zen and the Art of Motorcycle Maintenance: An I...     0.0     0.0     0.0   \n",
       "Zoya                                                   0.0     0.0     0.0   \n",
       "\\O\\\" Is for Outlaw\"                                    0.0     0.0     0.0   \n",
       "\n",
       "User-ID                                             3363    ...  274301  \\\n",
       "Book-Title                                                  ...           \n",
       "1984                                                   0.0  ...     0.0   \n",
       "1st to Die: A Novel                                    0.0  ...     0.0   \n",
       "2nd Chance                                             0.0  ...     0.0   \n",
       "4 Blondes                                              0.0  ...     0.0   \n",
       "84 Charing Cross Road                                  0.0  ...     0.0   \n",
       "...                                                    ...  ...     ...   \n",
       "Year of Wonders                                        0.0  ...     0.0   \n",
       "You Belong To Me                                       0.0  ...     0.0   \n",
       "Zen and the Art of Motorcycle Maintenance: An I...     0.0  ...     0.0   \n",
       "Zoya                                                   0.0  ...     0.0   \n",
       "\\O\\\" Is for Outlaw\"                                    0.0  ...     8.0   \n",
       "\n",
       "User-ID                                             274308  274808  275970  \\\n",
       "Book-Title                                                                   \n",
       "1984                                                   0.0     0.0     0.0   \n",
       "1st to Die: A Novel                                    0.0     0.0     0.0   \n",
       "2nd Chance                                             0.0     0.0     0.0   \n",
       "4 Blondes                                              0.0     0.0     0.0   \n",
       "84 Charing Cross Road                                  0.0     0.0    10.0   \n",
       "...                                                    ...     ...     ...   \n",
       "Year of Wonders                                        0.0     0.0     0.0   \n",
       "You Belong To Me                                       0.0     0.0     0.0   \n",
       "Zen and the Art of Motorcycle Maintenance: An I...     0.0     0.0     0.0   \n",
       "Zoya                                                   0.0     0.0     0.0   \n",
       "\\O\\\" Is for Outlaw\"                                    0.0     0.0     0.0   \n",
       "\n",
       "User-ID                                             276680  277427  277478  \\\n",
       "Book-Title                                                                   \n",
       "1984                                                   0.0     0.0     0.0   \n",
       "1st to Die: A Novel                                    0.0     0.0     0.0   \n",
       "2nd Chance                                             0.0     0.0     0.0   \n",
       "4 Blondes                                              0.0     0.0     0.0   \n",
       "84 Charing Cross Road                                  0.0     0.0     0.0   \n",
       "...                                                    ...     ...     ...   \n",
       "Year of Wonders                                        0.0     0.0     0.0   \n",
       "You Belong To Me                                       0.0     0.0     0.0   \n",
       "Zen and the Art of Motorcycle Maintenance: An I...     0.0     0.0     0.0   \n",
       "Zoya                                                   0.0     0.0     0.0   \n",
       "\\O\\\" Is for Outlaw\"                                    0.0     0.0     0.0   \n",
       "\n",
       "User-ID                                             277639  278188  278418  \n",
       "Book-Title                                                                  \n",
       "1984                                                   0.0     0.0     0.0  \n",
       "1st to Die: A Novel                                    0.0     0.0     0.0  \n",
       "2nd Chance                                             0.0     0.0     0.0  \n",
       "4 Blondes                                              0.0     0.0     0.0  \n",
       "84 Charing Cross Road                                  0.0     0.0     0.0  \n",
       "...                                                    ...     ...     ...  \n",
       "Year of Wonders                                        0.0     0.0     0.0  \n",
       "You Belong To Me                                       0.0     0.0     0.0  \n",
       "Zen and the Art of Motorcycle Maintenance: An I...     0.0     0.0     0.0  \n",
       "Zoya                                                   0.0     0.0     0.0  \n",
       "\\O\\\" Is for Outlaw\"                                    0.0     0.0     0.0  \n",
       "\n",
       "[868 rows x 1110 columns]"
      ]
     },
     "execution_count": 17,
     "metadata": {},
     "output_type": "execute_result"
    }
   ],
   "source": [
    "final_dt.fillna(0,inplace = True)\n",
    "final_dt"
   ]
  },
  {
   "cell_type": "code",
   "execution_count": 18,
   "id": "6a6680cf",
   "metadata": {
    "execution": {
     "iopub.execute_input": "2023-12-13T11:53:35.463596Z",
     "iopub.status.busy": "2023-12-13T11:53:35.463266Z",
     "iopub.status.idle": "2023-12-13T11:53:35.778407Z",
     "shell.execute_reply": "2023-12-13T11:53:35.777331Z"
    },
    "papermill": {
     "duration": 0.325971,
     "end_time": "2023-12-13T11:53:35.781083",
     "exception": false,
     "start_time": "2023-12-13T11:53:35.455112",
     "status": "completed"
    },
    "tags": []
   },
   "outputs": [
    {
     "data": {
      "text/plain": [
       "(868, 868)"
      ]
     },
     "execution_count": 18,
     "metadata": {},
     "output_type": "execute_result"
    }
   ],
   "source": [
    "# find euclidian distance\n",
    "\n",
    "from sklearn.metrics.pairwise import cosine_similarity\n",
    "score_sim = cosine_similarity(final_dt)\n",
    "score_sim.shape"
   ]
  },
  {
   "cell_type": "code",
   "execution_count": 19,
   "id": "5f0c7a19",
   "metadata": {
    "execution": {
     "iopub.execute_input": "2023-12-13T11:53:35.802235Z",
     "iopub.status.busy": "2023-12-13T11:53:35.801136Z",
     "iopub.status.idle": "2023-12-13T11:53:35.808318Z",
     "shell.execute_reply": "2023-12-13T11:53:35.807533Z"
    },
    "papermill": {
     "duration": 0.019335,
     "end_time": "2023-12-13T11:53:35.810201",
     "exception": false,
     "start_time": "2023-12-13T11:53:35.790866",
     "status": "completed"
    },
    "tags": []
   },
   "outputs": [
    {
     "data": {
      "text/plain": [
       "array([[1.        , 0.07980265, 0.00974903, ..., 0.09658948, 0.06448266,\n",
       "        0.03549567],\n",
       "       [0.07980265, 1.        , 0.25233692, ..., 0.06000464, 0.14873547,\n",
       "        0.1435961 ],\n",
       "       [0.00974903, 0.25233692, 1.        , ..., 0.03769791, 0.04493654,\n",
       "        0.09205667],\n",
       "       ...,\n",
       "       [0.09658948, 0.06000464, 0.03769791, ..., 1.        , 0.06439035,\n",
       "        0.01670749],\n",
       "       [0.06448266, 0.14873547, 0.04493654, ..., 0.06439035, 1.        ,\n",
       "        0.09936127],\n",
       "       [0.03549567, 0.1435961 , 0.09205667, ..., 0.01670749, 0.09936127,\n",
       "        1.        ]])"
      ]
     },
     "execution_count": 19,
     "metadata": {},
     "output_type": "execute_result"
    }
   ],
   "source": [
    "score_sim"
   ]
  },
  {
   "cell_type": "code",
   "execution_count": 20,
   "id": "5d6ca834",
   "metadata": {
    "execution": {
     "iopub.execute_input": "2023-12-13T11:53:35.830669Z",
     "iopub.status.busy": "2023-12-13T11:53:35.830295Z",
     "iopub.status.idle": "2023-12-13T11:53:35.837236Z",
     "shell.execute_reply": "2023-12-13T11:53:35.836443Z"
    },
    "papermill": {
     "duration": 0.019398,
     "end_time": "2023-12-13T11:53:35.839063",
     "exception": false,
     "start_time": "2023-12-13T11:53:35.819665",
     "status": "completed"
    },
    "tags": []
   },
   "outputs": [],
   "source": [
    "# Helper function to find recommend books\n",
    "\n",
    "def recommed(obj):\n",
    "    index = np.where(final_dt.index == obj)[0][0]\n",
    "    similar_items = sorted(list(enumerate(score_sim[index])),key=lambda x:x[1],reverse=True)[1:8]\n",
    "    data = []\n",
    "    for i in similar_items:\n",
    "        item = []\n",
    "        temp_df = books[books['Book-Title'] == final_dt.index[i[0]]]\n",
    "        item.extend(list(temp_df.drop_duplicates('Book-Title')['Book-Title'].values))\n",
    "        item.extend(list(temp_df.drop_duplicates('Book-Title')['Book-Author'].values))\n",
    "        item.extend(list(temp_df.drop_duplicates('Book-Title')['Image-URL-M'].values))\n",
    "        \n",
    "        data.append(item)\n",
    "    \n",
    "    return data"
   ]
  },
  {
   "cell_type": "code",
   "execution_count": 21,
   "id": "146b9076",
   "metadata": {
    "execution": {
     "iopub.execute_input": "2023-12-13T11:53:35.859344Z",
     "iopub.status.busy": "2023-12-13T11:53:35.858982Z",
     "iopub.status.idle": "2023-12-13T11:53:35.998821Z",
     "shell.execute_reply": "2023-12-13T11:53:35.997933Z"
    },
    "papermill": {
     "duration": 0.152119,
     "end_time": "2023-12-13T11:53:36.000638",
     "exception": false,
     "start_time": "2023-12-13T11:53:35.848519",
     "status": "completed"
    },
    "tags": []
   },
   "outputs": [
    {
     "data": {
      "text/plain": [
       "[['Animal Farm',\n",
       "  'George Orwell',\n",
       "  'http://images.amazon.com/images/P/0451526341.01.MZZZZZZZ.jpg'],\n",
       " ['Lord of the Flies',\n",
       "  'William Gerald Golding',\n",
       "  'http://images.amazon.com/images/P/0399501487.01.MZZZZZZZ.jpg'],\n",
       " [\"Slaughterhouse Five or the Children's Crusade: A Duty Dance With Death\",\n",
       "  'Kurt Vonnegut',\n",
       "  'http://images.amazon.com/images/P/0440180295.01.MZZZZZZZ.jpg'],\n",
       " [\"The Handmaid's Tale\",\n",
       "  'Margaret Atwood',\n",
       "  'http://images.amazon.com/images/P/0449212602.01.MZZZZZZZ.jpg'],\n",
       " ['The Catcher in the Rye',\n",
       "  'J.D. Salinger',\n",
       "  'http://images.amazon.com/images/P/0316769487.01.MZZZZZZZ.jpg'],\n",
       " ['Brave New World',\n",
       "  'Aldous Huxley',\n",
       "  'http://images.amazon.com/images/P/0060809833.01.MZZZZZZZ.jpg'],\n",
       " ['Word Freak: Heartbreak, Triumph, Genius, and Obsession in the World of Competitive Scrabble Players',\n",
       "  'Stefan Fatsis',\n",
       "  'http://images.amazon.com/images/P/0142002267.01.MZZZZZZZ.jpg']]"
      ]
     },
     "execution_count": 21,
     "metadata": {},
     "output_type": "execute_result"
    }
   ],
   "source": [
    "recommed('1984')"
   ]
  },
  {
   "cell_type": "code",
   "execution_count": null,
   "id": "3cf67027",
   "metadata": {
    "papermill": {
     "duration": 0.007098,
     "end_time": "2023-12-13T11:53:36.015191",
     "exception": false,
     "start_time": "2023-12-13T11:53:36.008093",
     "status": "completed"
    },
    "tags": []
   },
   "outputs": [],
   "source": []
  }
 ],
 "metadata": {
  "kaggle": {
   "accelerator": "none",
   "dataSources": [
    {
     "datasetId": 1004280,
     "sourceId": 5624361,
     "sourceType": "datasetVersion"
    }
   ],
   "dockerImageVersionId": 30615,
   "isGpuEnabled": false,
   "isInternetEnabled": true,
   "language": "python",
   "sourceType": "notebook"
  },
  "kernelspec": {
   "display_name": "Python 3",
   "language": "python",
   "name": "python3"
  },
  "language_info": {
   "codemirror_mode": {
    "name": "ipython",
    "version": 3
   },
   "file_extension": ".py",
   "mimetype": "text/x-python",
   "name": "python",
   "nbconvert_exporter": "python",
   "pygments_lexer": "ipython3",
   "version": "3.10.12"
  },
  "papermill": {
   "default_parameters": {},
   "duration": 12.811113,
   "end_time": "2023-12-13T11:53:36.645894",
   "environment_variables": {},
   "exception": null,
   "input_path": "__notebook__.ipynb",
   "output_path": "__notebook__.ipynb",
   "parameters": {},
   "start_time": "2023-12-13T11:53:23.834781",
   "version": "2.4.0"
  }
 },
 "nbformat": 4,
 "nbformat_minor": 5
}
